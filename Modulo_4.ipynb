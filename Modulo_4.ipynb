{
  "nbformat": 4,
  "nbformat_minor": 0,
  "metadata": {
    "colab": {
      "name": "Copia de modulo 4.ipynb",
      "provenance": [],
      "collapsed_sections": [
        "UnVQ75Gz3GkM",
        "CtAMacFd7qOP",
        "5SkhgqGSCX7Z",
        "dVF5nxchMdg-",
        "fsYC2R6GMnnF",
        "q2d6kw3XNkRQ",
        "K3ASKj6tOnas",
        "xHZwF4EJVuP7",
        "9v43SleGkhAh",
        "M3RgdLwtluyF"
      ],
      "include_colab_link": true
    },
    "kernelspec": {
      "name": "python3",
      "display_name": "Python 3"
    },
    "language_info": {
      "name": "python"
    }
  },
  "cells": [
    {
      "cell_type": "markdown",
      "metadata": {
        "id": "view-in-github",
        "colab_type": "text"
      },
      "source": [
        "<a href=\"https://colab.research.google.com/github/fredypauca/Python-Basico-Ejercicios/blob/main/Modulo_4.ipynb\" target=\"_parent\"><img src=\"https://colab.research.google.com/assets/colab-badge.svg\" alt=\"Open In Colab\"/></a>"
      ]
    },
    {
      "cell_type": "markdown",
      "source": [
        "<img src=\"https://www.ctic.uni.edu.pe/wp-content/uploads/2022/04/588px-x-348px-web-1.png\" alt=\"HTML5 Icon\" width=\"900\" height=\"350\" >"
      ],
      "metadata": {
        "id": "atsxxNXNyS0i"
      }
    },
    {
      "cell_type": "markdown",
      "source": [
        "<h1 align=center><font size = 5>UNIDAD IV - ESTRUCTURAS DE DATOS\n",
        "</font></h1>\n",
        "\n",
        "---"
      ],
      "metadata": {
        "id": "4p5vLlhHyXK5"
      }
    },
    {
      "cell_type": "markdown",
      "source": [
        "## Tabla de Contenidos\n",
        "\n",
        "<div class=\"alert alert-block alert-info\" style=\"margin-top: 20px\">\n",
        "\n",
        "<font size = 3>\n",
        "    \n",
        "1. <a href=\"#item31\">Trabajando con Listas numéricas</a>\n",
        "2. <a href=\"#item31\">Trabajando con slices</a>  \n",
        "3. <a href=\"#item31\">Tuplas</a>  \n",
        "4. <a href=\"#item31\">Diccionarios</a>  \n",
        "\n",
        "</font>\n",
        "</div>\n",
        "\n",
        "---"
      ],
      "metadata": {
        "id": "y0BfNj-RyguL"
      }
    },
    {
      "cell_type": "markdown",
      "source": [
        "# 1. Trabajando con Listas numéricas"
      ],
      "metadata": {
        "id": "fY5fHyw61UB5"
      }
    },
    {
      "cell_type": "markdown",
      "source": [
        "### List Comprehensions\n"
      ],
      "metadata": {
        "id": "H68897kt3Xan"
      }
    },
    {
      "cell_type": "markdown",
      "source": [
        "---\n",
        "\n",
        "<b> Ejercicio 1</b>\n",
        "\n",
        "use un bucle **for** para imprimir los números del 1 al 20, inclusive.\n"
      ],
      "metadata": {
        "id": "v8l2iiax3w6L"
      }
    },
    {
      "cell_type": "code",
      "source": [
        "for value in range(1, 21):\n",
        "    print(value)"
      ],
      "metadata": {
        "id": "DvmfxAhcjDza",
        "outputId": "33456657-f17e-4330-e564-9ba774cfd736",
        "colab": {
          "base_uri": "https://localhost:8080/"
        }
      },
      "execution_count": 80,
      "outputs": [
        {
          "output_type": "stream",
          "name": "stdout",
          "text": [
            "1\n",
            "2\n",
            "3\n",
            "4\n",
            "5\n",
            "6\n",
            "7\n",
            "8\n",
            "9\n",
            "10\n",
            "11\n",
            "12\n",
            "13\n",
            "14\n",
            "15\n",
            "16\n",
            "17\n",
            "18\n",
            "19\n",
            "20\n"
          ]
        }
      ]
    },
    {
      "cell_type": "markdown",
      "source": [
        "---\n",
        "\n",
        "<b> Ejercicio 2</b>\n",
        "\n",
        "Haga una lista de los números del uno al millón y luego use un ciclo for para imprimir los números. (Si la salida tarda demasiado, deténgala presionando CTRL-C o cerrando la ventana de salida).\n"
      ],
      "metadata": {
        "id": "rYzzJUd64HR1"
      }
    },
    {
      "cell_type": "code",
      "source": [
        "for value in range(1, 100):\n",
        "    print(value)"
      ],
      "metadata": {
        "id": "SNSnfUF8i4Hz",
        "outputId": "eaa0be14-4f75-4cc7-cc0d-de6d97f32815",
        "colab": {
          "base_uri": "https://localhost:8080/"
        }
      },
      "execution_count": 81,
      "outputs": [
        {
          "output_type": "stream",
          "name": "stdout",
          "text": [
            "1\n",
            "2\n",
            "3\n",
            "4\n",
            "5\n",
            "6\n",
            "7\n",
            "8\n",
            "9\n",
            "10\n",
            "11\n",
            "12\n",
            "13\n",
            "14\n",
            "15\n",
            "16\n",
            "17\n",
            "18\n",
            "19\n",
            "20\n",
            "21\n",
            "22\n",
            "23\n",
            "24\n",
            "25\n",
            "26\n",
            "27\n",
            "28\n",
            "29\n",
            "30\n",
            "31\n",
            "32\n",
            "33\n",
            "34\n",
            "35\n",
            "36\n",
            "37\n",
            "38\n",
            "39\n",
            "40\n",
            "41\n",
            "42\n",
            "43\n",
            "44\n",
            "45\n",
            "46\n",
            "47\n",
            "48\n",
            "49\n",
            "50\n",
            "51\n",
            "52\n",
            "53\n",
            "54\n",
            "55\n",
            "56\n",
            "57\n",
            "58\n",
            "59\n",
            "60\n",
            "61\n",
            "62\n",
            "63\n",
            "64\n",
            "65\n",
            "66\n",
            "67\n",
            "68\n",
            "69\n",
            "70\n",
            "71\n",
            "72\n",
            "73\n",
            "74\n",
            "75\n",
            "76\n",
            "77\n",
            "78\n",
            "79\n",
            "80\n",
            "81\n",
            "82\n",
            "83\n",
            "84\n",
            "85\n",
            "86\n",
            "87\n",
            "88\n",
            "89\n",
            "90\n",
            "91\n",
            "92\n",
            "93\n",
            "94\n",
            "95\n",
            "96\n",
            "97\n",
            "98\n",
            "99\n"
          ]
        }
      ]
    },
    {
      "cell_type": "markdown",
      "source": [
        "---\n",
        "\n",
        "<b> Ejercicio 3</b>\n",
        "\n",
        "Haga una lista de los números del uno al millón y luego use min() y max() para asegurarse de que su lista realmente comience en uno y termine en un millón. Además, use la función sum() para ver qué tan rápido Python puede agregar un millón de números.\n"
      ],
      "metadata": {
        "id": "2qrKdPpb4chR"
      }
    },
    {
      "cell_type": "code",
      "source": [
        "numbers = list(range(1, 1000001))"
      ],
      "metadata": {
        "id": "z_h9Blt2ln9p"
      },
      "execution_count": 82,
      "outputs": []
    },
    {
      "cell_type": "code",
      "source": [
        "min(numbers)"
      ],
      "metadata": {
        "colab": {
          "base_uri": "https://localhost:8080/"
        },
        "id": "gQdu7kHLmfIq",
        "outputId": "d375a1c7-8d95-4001-d229-9a517893545d"
      },
      "execution_count": null,
      "outputs": [
        {
          "output_type": "execute_result",
          "data": {
            "text/plain": [
              "1"
            ]
          },
          "metadata": {},
          "execution_count": 37
        }
      ]
    },
    {
      "cell_type": "code",
      "source": [
        "max(numbers)"
      ],
      "metadata": {
        "colab": {
          "base_uri": "https://localhost:8080/"
        },
        "id": "sLxx9yAnmhm6",
        "outputId": "cda08da8-1092-4977-b5ed-c5dcbe5eeeec"
      },
      "execution_count": 83,
      "outputs": [
        {
          "output_type": "execute_result",
          "data": {
            "text/plain": [
              "1000000"
            ]
          },
          "metadata": {},
          "execution_count": 83
        }
      ]
    },
    {
      "cell_type": "code",
      "source": [
        "sum(numbers)"
      ],
      "metadata": {
        "id": "EW2MaMgulzqu",
        "outputId": "aa7fccda-fbb4-44f2-b1e9-451d632d3e46",
        "colab": {
          "base_uri": "https://localhost:8080/"
        }
      },
      "execution_count": 84,
      "outputs": [
        {
          "output_type": "execute_result",
          "data": {
            "text/plain": [
              "500000500000"
            ]
          },
          "metadata": {},
          "execution_count": 84
        }
      ]
    },
    {
      "cell_type": "markdown",
      "source": [
        "---\n",
        "\n",
        "<b> Ejercicio 4</b>\n",
        "\n",
        "Use el tercer argumento de la función range() para hacer una lista de los números impares del 1 al 20. Use un bucle for para imprimir cada número.\n"
      ],
      "metadata": {
        "id": "oizdiWqQ44qx"
      }
    },
    {
      "cell_type": "code",
      "source": [
        "for value in range(1, 21,2):\n",
        "    print(value)"
      ],
      "metadata": {
        "colab": {
          "base_uri": "https://localhost:8080/"
        },
        "id": "lGMteLhhm9Ew",
        "outputId": "c51553c5-49bc-489e-8657-59dfd24988af"
      },
      "execution_count": 85,
      "outputs": [
        {
          "output_type": "stream",
          "name": "stdout",
          "text": [
            "1\n",
            "3\n",
            "5\n",
            "7\n",
            "9\n",
            "11\n",
            "13\n",
            "15\n",
            "17\n",
            "19\n"
          ]
        }
      ]
    },
    {
      "cell_type": "code",
      "source": [
        "numbers = list(range(1, 21,2))\n",
        "print(numbers)"
      ],
      "metadata": {
        "id": "qQaPSNiQmf4C",
        "outputId": "fd92bab5-e6be-4270-a89a-8ba66841345c",
        "colab": {
          "base_uri": "https://localhost:8080/"
        }
      },
      "execution_count": 86,
      "outputs": [
        {
          "output_type": "stream",
          "name": "stdout",
          "text": [
            "[1, 3, 5, 7, 9, 11, 13, 15, 17, 19]\n"
          ]
        }
      ]
    },
    {
      "cell_type": "markdown",
      "source": [
        "---\n",
        "\n",
        "<b> Ejercicio 5</b>\n",
        "\n",
        "Haga una lista de los múltiplos de 3 de 3 a 30. Use un ciclo for para imprimir los números en su lista.\n"
      ],
      "metadata": {
        "id": "yK9dmJJi5W6W"
      }
    },
    {
      "cell_type": "code",
      "source": [
        "#de esta manera no cumple exactamente se debe utilizar %\n",
        "numbers = list(range(3, 31,3))\n",
        "print(numbers)"
      ],
      "metadata": {
        "id": "1NujpqR2nqEv",
        "outputId": "9165d0a0-1211-4131-dea2-1388b272d97d",
        "colab": {
          "base_uri": "https://localhost:8080/"
        }
      },
      "execution_count": 87,
      "outputs": [
        {
          "output_type": "stream",
          "name": "stdout",
          "text": [
            "[3, 6, 9, 12, 15, 18, 21, 24, 27, 30]\n"
          ]
        }
      ]
    },
    {
      "cell_type": "code",
      "source": [
        "#esta es la manera correcta\n",
        "number = list(range(3, 31))\n",
        "for impar in number:\n",
        "  if impar%3==0:\n",
        "    print(f\"{impar}\")\n"
      ],
      "metadata": {
        "id": "Urby3bCYoBH_",
        "outputId": "edcb7759-ef31-4954-e6ee-4ed57952bf20",
        "colab": {
          "base_uri": "https://localhost:8080/"
        }
      },
      "execution_count": 88,
      "outputs": [
        {
          "output_type": "stream",
          "name": "stdout",
          "text": [
            "3\n",
            "6\n",
            "9\n",
            "12\n",
            "15\n",
            "18\n",
            "21\n",
            "24\n",
            "27\n",
            "30\n"
          ]
        }
      ]
    },
    {
      "cell_type": "code",
      "source": [
        "# otra manera de hacer\n",
        "lista=[]\n",
        "for i in range(3,31):\n",
        "  if i%3==0:\n",
        "    lista.append(i)\n",
        "for a in lista:\n",
        "  print(a)\n"
      ],
      "metadata": {
        "colab": {
          "base_uri": "https://localhost:8080/"
        },
        "id": "Jo2M2WU-r21y",
        "outputId": "0801b0e0-bcd8-4dd4-8097-778957004a21"
      },
      "execution_count": 89,
      "outputs": [
        {
          "output_type": "stream",
          "name": "stdout",
          "text": [
            "3\n",
            "6\n",
            "9\n",
            "12\n",
            "15\n",
            "18\n",
            "21\n",
            "24\n",
            "27\n",
            "30\n"
          ]
        }
      ]
    },
    {
      "cell_type": "markdown",
      "source": [
        "---\n",
        "\n",
        "<b> Ejercicio 6</b>\n",
        "\n",
        "Haga una lista de los primeros 10 cubos (es decir, el cubo de cada número entero del 1 al 10) y use un ciclo for para imprimir el valor de cada cubo.\n"
      ],
      "metadata": {
        "id": "qqdPT25k5d23"
      }
    },
    {
      "cell_type": "code",
      "source": [
        "cuboides = []\n",
        "\n",
        "for value in range(1,11):\n",
        "    cuboides.append(value**3)\n",
        "    \n",
        "print(cuboides)"
      ],
      "metadata": {
        "colab": {
          "base_uri": "https://localhost:8080/"
        },
        "id": "l9WDtDtlsLRs",
        "outputId": "ed0d229b-259b-4a25-b31e-78b392057d40"
      },
      "execution_count": 90,
      "outputs": [
        {
          "output_type": "stream",
          "name": "stdout",
          "text": [
            "[1, 8, 27, 64, 125, 216, 343, 512, 729, 1000]\n"
          ]
        }
      ]
    },
    {
      "cell_type": "markdown",
      "source": [
        "---\n",
        "\n",
        "<b> Ejercicio 7</b>\n",
        "\n",
        "Use una lista de comprensión para generar una lista de los primeros 10 cubos.\n",
        "\n",
        "---"
      ],
      "metadata": {
        "id": "MQfhaTOo59GS"
      }
    },
    {
      "cell_type": "code",
      "source": [
        "cubos = [value**3 for value in range(1, 11)]\n",
        "print(cubos)"
      ],
      "metadata": {
        "colab": {
          "base_uri": "https://localhost:8080/"
        },
        "id": "xvB2QWqVrIwb",
        "outputId": "ffe0b520-b3ad-46ad-ea25-5134357ab45a"
      },
      "execution_count": 91,
      "outputs": [
        {
          "output_type": "stream",
          "name": "stdout",
          "text": [
            "[1, 8, 27, 64, 125, 216, 343, 512, 729, 1000]\n"
          ]
        }
      ]
    },
    {
      "cell_type": "markdown",
      "source": [
        "# 2. Trabajando con slices"
      ],
      "metadata": {
        "id": "-h_22RYJ6U9R"
      }
    },
    {
      "cell_type": "markdown",
      "source": [
        "### Copiando una lista"
      ],
      "metadata": {
        "id": "jsCWYHQC8Faa"
      }
    },
    {
      "cell_type": "markdown",
      "source": [
        "---\n",
        "\n",
        "<b> Ejercicio 1</b>\n",
        "\n",
        "Utilizando alguna lista definida anteriormente:\n",
        "\n",
        "*   Imprima el mensaje **Los tres primeros elementos de la lista son:**. Luego use un slice para imprimir los primeros tres elementos de la lista de ese programa.\n",
        "\n",
        "*   Imprima el mensaje **Tres elementos de la mitad de la lista son:**. Use un slice para imprimir tres elementos del medio de la lista.\n",
        "\n",
        "*   Imprima el mensaje **Los últimos tres elementos de la lista son:**. Utilice un slice para imprimir los últimos tres elementos de la lista."
      ],
      "metadata": {
        "id": "H30p04iC93Ma"
      }
    },
    {
      "cell_type": "code",
      "source": [
        "print(f\"Los tres primeros elemenos de la lista son :\\n\\t{my_foods[0:3]}\")\n"
      ],
      "metadata": {
        "colab": {
          "base_uri": "https://localhost:8080/"
        },
        "id": "9azKAsuXxc5S",
        "outputId": "0e5714f3-4163-408c-f5d1-93ec22e10f91"
      },
      "execution_count": 92,
      "outputs": [
        {
          "output_type": "stream",
          "name": "stdout",
          "text": [
            "Los tres primeros elemenos de la lista son :\n",
            "\t['pizza', 'falafel', 'carrot cake']\n"
          ]
        }
      ]
    },
    {
      "cell_type": "code",
      "source": [
        "print(f\"Los elemenos de la mitad de la lista son :\\n\\t{my_foods[1:3]}\")"
      ],
      "metadata": {
        "colab": {
          "base_uri": "https://localhost:8080/"
        },
        "id": "nO9JH_z27xK0",
        "outputId": "b8954fa3-58d5-4999-e35b-2283f6ca167c"
      },
      "execution_count": 93,
      "outputs": [
        {
          "output_type": "stream",
          "name": "stdout",
          "text": [
            "Los elemenos de la mitad de la lista son :\n",
            "\t['falafel', 'carrot cake']\n"
          ]
        }
      ]
    },
    {
      "cell_type": "code",
      "source": [
        "print(f\"Los tres primeros elemenos de la lista son :\\n\\t{my_foods[-3:]}\")"
      ],
      "metadata": {
        "colab": {
          "base_uri": "https://localhost:8080/"
        },
        "id": "hMnOGbPt8OJw",
        "outputId": "8f88c0fd-901b-49cd-fa99-23fe1c8625d6"
      },
      "execution_count": 94,
      "outputs": [
        {
          "output_type": "stream",
          "name": "stdout",
          "text": [
            "Los tres primeros elemenos de la lista son :\n",
            "\t['falafel', 'carrot cake', 'cannoli']\n"
          ]
        }
      ]
    },
    {
      "cell_type": "markdown",
      "source": [
        "---\n",
        "\n",
        "<b> Ejercicio 2</b>\n",
        "\n",
        "Haga una copia de la lista de pizzas y llámela friend_pizzas. Luego, haz lo siguiente:\n",
        "\n",
        "* Agregue una nueva pizza a la lista original.\n",
        "* Agrega una pizza diferente a la lista friend_pizzas.\n",
        "* Demuestra que tienes dos listas separadas. Imprima el mensaje Mis pizzas favoritas son: y luego use un bucle for para imprimir la primera lista. Imprima el mensaje Las pizzas favoritas de mi amigo son: y luego use un bucle for para imprimir la segunda lista. Asegúrese de que cada pizza nueva se almacene en la lista adecuada."
      ],
      "metadata": {
        "id": "0SzOQQ7S_s1U"
      }
    },
    {
      "cell_type": "code",
      "source": [
        "pizzas = ['americana', 'hawaiana', 'pepperoni', 'romana', 'napolitana']\n",
        "friend_pizzas = pizzas[:]\n",
        "\n",
        "pizzas.append('siciliana')\n",
        "friend_pizzas.append('vegetariana')\n",
        "print(pizzas)\n",
        "print(friend_pizzas)\n",
        "\n",
        "print(\"\\nMis pizzas favoritas son:\")\n",
        "for comida in pizzas:\n",
        "    print(comida.title())\n",
        "\n",
        "print(\"\\nLas pizzas favoritas de mi amigo son:\")\n",
        "for comida in friend_pizzas:\n",
        "    print(comida.title())\n"
      ],
      "metadata": {
        "id": "Si51cmPA2uR2",
        "outputId": "436cc22f-00ad-47c8-e597-5fa3891e63a4",
        "colab": {
          "base_uri": "https://localhost:8080/"
        }
      },
      "execution_count": 95,
      "outputs": [
        {
          "output_type": "stream",
          "name": "stdout",
          "text": [
            "['americana', 'hawaiana', 'pepperoni', 'romana', 'napolitana', 'siciliana']\n",
            "['americana', 'hawaiana', 'pepperoni', 'romana', 'napolitana', 'vegetariana']\n",
            "\n",
            "Mis pizzas favoritas son:\n",
            "Americana\n",
            "Hawaiana\n",
            "Pepperoni\n",
            "Romana\n",
            "Napolitana\n",
            "Siciliana\n",
            "\n",
            "Las pizzas favoritas de mi amigo son:\n",
            "Americana\n",
            "Hawaiana\n",
            "Pepperoni\n",
            "Romana\n",
            "Napolitana\n",
            "Vegetariana\n"
          ]
        }
      ]
    },
    {
      "cell_type": "markdown",
      "source": [
        "# 3. Tuplas"
      ],
      "metadata": {
        "id": "qXYwCDghBHAx"
      }
    },
    {
      "cell_type": "markdown",
      "source": [
        "### Modificando una tupla"
      ],
      "metadata": {
        "id": "y-nYJPBwC5jg"
      }
    },
    {
      "cell_type": "markdown",
      "source": [
        "---\n",
        "\n",
        "<b> Ejercicio 1</b>\n",
        "\n",
        "Un restaurante estilo buffet ofrece solo cinco alimentos básicos. Piense en cinco alimentos simples y guárdelos en una tupla.\n",
        "\n",
        "* Use un bucle for para imprimir cada comida que ofrece el restaurante.\n",
        "Intente modificar uno de los elementos y asegúrese de que Python rechace el cambio.\n",
        "* El restaurante cambia su menú, reemplazando dos de los artículos con comidas diferentes. Agregue una línea que reescriba la tupla y luego use un ciclo for para imprimir cada uno de los elementos en el menú revisado.\n",
        "\n",
        "---"
      ],
      "metadata": {
        "id": "WHk9FL9lDtBY"
      }
    },
    {
      "cell_type": "code",
      "source": [
        "buffet = ('Ceviche','Chicharrón de chancho.','Rocoto Relleno.','Lomo Saltado','Pollo al horno')\n",
        "print(\"\\n los platos originales son:\")\n",
        "for b in buffet:\n",
        "  print(f'-{b}')\n"
      ],
      "metadata": {
        "colab": {
          "base_uri": "https://localhost:8080/"
        },
        "id": "WcglE0-IiYgR",
        "outputId": "0836057a-add8-4121-bb6f-a9ca70a0f567"
      },
      "execution_count": 96,
      "outputs": [
        {
          "output_type": "stream",
          "name": "stdout",
          "text": [
            "\n",
            " los platos originales son:\n",
            "-Ceviche\n",
            "-Chicharrón de chancho.\n",
            "-Rocoto Relleno.\n",
            "-Lomo Saltado\n",
            "-Pollo al horno\n"
          ]
        }
      ]
    },
    {
      "cell_type": "code",
      "source": [
        "buffet[0] = 'Causa rellena'"
      ],
      "metadata": {
        "colab": {
          "base_uri": "https://localhost:8080/",
          "height": 166
        },
        "id": "gsOtyNC4VE2I",
        "outputId": "dd35f504-fc83-4a91-bda0-7886788852e1"
      },
      "execution_count": 97,
      "outputs": [
        {
          "output_type": "error",
          "ename": "TypeError",
          "evalue": "ignored",
          "traceback": [
            "\u001b[0;31m---------------------------------------------------------------------------\u001b[0m",
            "\u001b[0;31mTypeError\u001b[0m                                 Traceback (most recent call last)",
            "\u001b[0;32m<ipython-input-97-c730f985b649>\u001b[0m in \u001b[0;36m<module>\u001b[0;34m\u001b[0m\n\u001b[0;32m----> 1\u001b[0;31m \u001b[0mbuffet\u001b[0m\u001b[0;34m[\u001b[0m\u001b[0;36m0\u001b[0m\u001b[0;34m]\u001b[0m \u001b[0;34m=\u001b[0m \u001b[0;34m'Causa rellena'\u001b[0m\u001b[0;34m\u001b[0m\u001b[0;34m\u001b[0m\u001b[0m\n\u001b[0m",
            "\u001b[0;31mTypeError\u001b[0m: 'tuple' object does not support item assignment"
          ]
        }
      ]
    },
    {
      "cell_type": "code",
      "source": [
        "buffet = ('Causa rellena','Chicharrón de chancho.','Rocoto Relleno.','Lomo Saltado','Pollo al horno')\n",
        "print(\"\\n los platos modificados son:\")\n",
        "for b in buffet:\n",
        "  print(f'-{b}')\n"
      ],
      "metadata": {
        "colab": {
          "base_uri": "https://localhost:8080/"
        },
        "id": "Fcx752F2UQky",
        "outputId": "a87330bc-9c4e-4994-a8c2-284969dd0ffa"
      },
      "execution_count": 98,
      "outputs": [
        {
          "output_type": "stream",
          "name": "stdout",
          "text": [
            "\n",
            " los platos modificados son:\n",
            "-Causa rellena\n",
            "-Chicharrón de chancho.\n",
            "-Rocoto Relleno.\n",
            "-Lomo Saltado\n",
            "-Pollo al horno\n"
          ]
        }
      ]
    },
    {
      "cell_type": "markdown",
      "source": [
        "# 4. Diccionarios"
      ],
      "metadata": {
        "id": "BZTa7B8LFrIG"
      }
    },
    {
      "cell_type": "markdown",
      "source": [
        "### Usando get() para acceder a los valores"
      ],
      "metadata": {
        "id": "hHVI1fmuO_7v"
      }
    },
    {
      "cell_type": "markdown",
      "source": [
        "---\n",
        "\n",
        "<b> Ejercicio 1</b>\n",
        "\n",
        "Usa un diccionario para almacenar información sobre una persona que conoces. Almacene su nombre, apellido, edad y la ciudad en la que vive. Debe tener claves como nombre, apellido, edad y ciudad. Imprima cada parte de información almacenada en su diccionario.\n",
        "\n"
      ],
      "metadata": {
        "id": "ctXa-OLlQaXn"
      }
    },
    {
      "cell_type": "code",
      "source": [
        "persona = {'nombre': 'Fredy', 'apellido': 'Pauca', 'edad': 33, 'ciudad': 'Arequipa'}\n",
        "\n",
        "print(f\"El nombre es: {persona.get('nombre')}\")\n",
        "print(f\"El apellido es: {persona.get('apellido')}\")\n",
        "print(f\"La edad es: {persona.get('edad')}\")\n",
        "print(f\"La ciudad es: {persona.get('ciudad')}\")"
      ],
      "metadata": {
        "colab": {
          "base_uri": "https://localhost:8080/"
        },
        "id": "OD1_9A2ZrbLR",
        "outputId": "7e381f0d-8984-4f9d-cb83-6a5a482cf5c4"
      },
      "execution_count": 99,
      "outputs": [
        {
          "output_type": "stream",
          "name": "stdout",
          "text": [
            "El nombre es: Fredy\n",
            "El apellido es: Pauca\n",
            "La edad es: 33\n",
            "La ciudad es: Arequipa\n"
          ]
        }
      ]
    },
    {
      "cell_type": "markdown",
      "source": [
        "---\n",
        "\n",
        "<b> Ejercicio 2</b>\n",
        "\n",
        "Use un diccionario para almacenar los números favoritos de las personas. Piensa en cinco nombres y utilízalos como llaves en tu diccionario. Piense en un número favorito para cada persona y guárdelo como un valor en su diccionario. Escriba el nombre de cada persona y su número favorito. \n",
        "\n"
      ],
      "metadata": {
        "id": "7_krS5iiQ7KW"
      }
    },
    {
      "cell_type": "code",
      "source": [
        "favorito_num = {\n",
        "    'fredy' : 13,\n",
        "    'franchesca' : 3,\n",
        "    'ana' : 1,\n",
        "    'carlos' : 9,\n",
        "    'tefy' : 11,}\n",
        "\n",
        "print(f\"El número favorito de Fredy es {favorito_num['fredy']}.\")\n",
        "print(f\"El número favorito de Franchesca es {favorito_num['franchesca']}.\")\n",
        "print(f\"El número favorito de Ana es {favorito_num['ana']}.\")\n",
        "print(f\"El número favorito de Carlos es {favorito_num['carlos']}.\")\n",
        "print(f\"El número favorito de Tefy es {favorito_num['tefy']}.\")"
      ],
      "metadata": {
        "colab": {
          "base_uri": "https://localhost:8080/"
        },
        "id": "xoXOpoORUkql",
        "outputId": "d0db57e8-ee7f-40f5-f1c1-53a6441ca587"
      },
      "execution_count": 100,
      "outputs": [
        {
          "output_type": "stream",
          "name": "stdout",
          "text": [
            "El número favorito de Fredy es 13.\n",
            "El número favorito de Franchesca es 3.\n",
            "El número favorito de Ana es 1.\n",
            "El número favorito de Carlos es 9.\n",
            "El número favorito de Tefy es 11.\n"
          ]
        }
      ]
    },
    {
      "cell_type": "markdown",
      "source": [
        "---\n",
        "\n",
        "<b> Ejercicio 3</b>\n",
        "\n",
        "Piense en cinco palabras de programación que haya aprendido. Utilice estas palabras como llaves en su glosario y almacene sus significados como valores.\n",
        "\n",
        "Imprima cada palabra y su significado como una salida con un formato ordenado. Puede imprimir la palabra seguida de dos puntos y luego su significado, o imprimir la palabra en una línea y luego imprimir su significado con sangría en una segunda línea. Utilice el carácter de nueva línea (\\n) para insertar una línea en blanco entre cada par de palabra y significado en su salida.\n",
        "\n",
        "---"
      ],
      "metadata": {
        "id": "PmMzWA-nVOOi"
      }
    },
    {
      "cell_type": "code",
      "source": [
        "lenguaje_phyton = {\n",
        "    'if' :'Condicional que ejecuta una sentencia si la condición dada es verdadera' ,\n",
        "    'else' : 'Condicional que se ejecuta si la condicon if es falsa',\n",
        "    'for' : 'Estructura iterativa',\n",
        "    'while' : 'Condicion que se ejecuta indeterminadamente, mientras la condicion sea verdadera',\n",
        "    'append' : 'Expresión para agregar determinado elemento a una lista',}\n",
        "\n",
        "print(f\"\\n1.El comando if sirve para:\\n{lenguaje_phyton['if']}.\")\n",
        "print(f\"\\n2.El comando else es una:\\n{lenguaje_phyton['else']}.\")\n",
        "print(f\"\\n3.El comando for es una:\\n{lenguaje_phyton['for']}.\")\n",
        "print(f\"\\n4.El comando While es una:\\n{lenguaje_phyton['while']}.\")\n",
        "print(f\"\\n5.El comando append es una:\\n{lenguaje_phyton['append']}.\")"
      ],
      "metadata": {
        "colab": {
          "base_uri": "https://localhost:8080/"
        },
        "id": "QvKlE_2tXZB4",
        "outputId": "636bd252-f4ce-4b6a-8fc0-af0e99b1c6a4"
      },
      "execution_count": 101,
      "outputs": [
        {
          "output_type": "stream",
          "name": "stdout",
          "text": [
            "\n",
            "1.El comando if sirve para:\n",
            "Condicional que ejecuta una sentencia si la condición dada es verdadera.\n",
            "\n",
            "2.El comando else es una:\n",
            "Condicional que se ejecuta si la condicon if es falsa.\n",
            "\n",
            "3.El comando for es una:\n",
            "Estructura iterativa.\n",
            "\n",
            "4.El comando While es una:\n",
            "Condicion que se ejecuta indeterminadamente, mientras la condicion sea verdadera.\n",
            "\n",
            "5.El comando append es una:\n",
            "Expresión para agregar determinado elemento a una lista.\n"
          ]
        }
      ]
    },
    {
      "cell_type": "markdown",
      "source": [
        "### Loops con diccionarios"
      ],
      "metadata": {
        "id": "xHZwF4EJVuP7"
      }
    },
    {
      "cell_type": "markdown",
      "source": [
        "---\n",
        "\n",
        "<b> Ejercicio 1</b>\n",
        "\n",
        "Haga un diccionario que contenga tres ríos principales y el país por el que pasa cada río. Un par clave-valor podría ser 'nilo': 'egipto'.\n",
        "\n",
        "* Use un bucle para imprimir una oración sobre cada río, como El Nilo atraviesa Egipto.\n",
        "* Utilice un bucle para imprimir el nombre de cada río incluido en el diccionario.\n",
        "* Use un bucle para imprimir el nombre de cada país incluido en el diccionario.\n"
      ],
      "metadata": {
        "id": "Ov6u5MxIj2WA"
      }
    },
    {
      "cell_type": "code",
      "source": [
        "acuatico = {\n",
        "    'amazonas' :'perú' ,\n",
        "    'nilo' : 'egipto',\n",
        "    'iguazu' : 'argentina',}\n",
        "\n",
        "for rio, country in acuatico.items():\n",
        "  print(f\"El río {rio.title()} atraviesa el país de {country.title()}.\")\n",
        "\n",
        "print(\"\\nSe han utilizado los ríos:\")\n",
        "for rio in acuatico.values():\n",
        "  print(f\"{rio.title()}\")\n",
        "  \n",
        "print(\"\\nSe han utilizado los países:\")\n",
        "for country in acuatico.values():\n",
        "  print(f\"{country.title()}\")"
      ],
      "metadata": {
        "colab": {
          "base_uri": "https://localhost:8080/"
        },
        "id": "tZpRMqnKbycC",
        "outputId": "8145790a-4f90-4526-a336-7b905498e9cf"
      },
      "execution_count": 102,
      "outputs": [
        {
          "output_type": "stream",
          "name": "stdout",
          "text": [
            "El río Amazonas atraviesa el país de Perú.\n",
            "El río Nilo atraviesa el país de Egipto.\n",
            "El río Iguazu atraviesa el país de Argentina.\n",
            "\n",
            "Se han utilizado los ríos:\n",
            "Perú\n",
            "Egipto\n",
            "Argentina\n",
            "\n",
            "Se han utilizado los países:\n",
            "Perú\n",
            "Egipto\n",
            "Argentina\n"
          ]
        }
      ]
    },
    {
      "cell_type": "markdown",
      "source": [
        "---\n",
        "\n",
        "<b> Ejercicio 2</b>\n",
        "\n",
        "Haz una lista de las personas que deberían participar en la encuesta de idiomas favoritos. Incluye algunos nombres que ya estén en el diccionario y otros que no.\n",
        "Recorra la lista de personas que deberían realizar la encuesta. Si ya han realizado la encuesta, imprima un mensaje agradeciéndoles por responder. Si aún no han realizado la encuesta, imprima un mensaje invitándoles a realizar la encuesta.\n",
        "\n",
        "---"
      ],
      "metadata": {
        "id": "aSr26WfmkSSv"
      }
    },
    {
      "cell_type": "code",
      "source": [
        "encuestados = {\n",
        "    'fredy' :'inglés' ,\n",
        "    'franchesca' : 'francés',\n",
        "    'juan' : 'ruso',\n",
        "    'pedro' : 'portugués',  \n",
        "}\n",
        "encuesta = ['fredy', 'franchesca', 'juan', 'javier', 'pedro', 'luis']\n",
        "for name in encuesta[:]:\n",
        "  if(name in encuestados):\n",
        "    print(f\"{name.title()}, gracias por responder la encuesta.\")\n",
        "  else:\n",
        "    print(f\"{name.title()}, por favor responde la encuesta.\")"
      ],
      "metadata": {
        "colab": {
          "base_uri": "https://localhost:8080/"
        },
        "id": "8wYfFmKTdgR5",
        "outputId": "ad40066c-137e-4183-f9dc-27fe7e07b1b6"
      },
      "execution_count": 103,
      "outputs": [
        {
          "output_type": "stream",
          "name": "stdout",
          "text": [
            "Fredy, gracias por responder la encuesta.\n",
            "Franchesca, gracias por responder la encuesta.\n",
            "Juan, gracias por responder la encuesta.\n",
            "Javier, por favor responde la encuesta.\n",
            "Pedro, gracias por responder la encuesta.\n",
            "Luis, por favor responde la encuesta.\n"
          ]
        }
      ]
    },
    {
      "cell_type": "markdown",
      "source": [
        "### Una lista en un diccionario"
      ],
      "metadata": {
        "id": "M3RgdLwtluyF"
      }
    },
    {
      "cell_type": "markdown",
      "source": [
        "---\n",
        "\n",
        "<b> Ejercicio 1</b>\n",
        "\n",
        "Cree tres nuevos diccionarios que representen a diferentes personas y almacene los tres diccionarios en una lista llamada personas. Recorra su lista de personas. Mientras recorre la lista, imprima todo lo que sabe sobre cada persona.\n"
      ],
      "metadata": {
        "id": "3JJTjbfhmwks"
      }
    },
    {
      "cell_type": "code",
      "source": [
        "persona_1 = {'nombre': 'fredy', 'apellido': 'pauca', 'edad': 33,'ciudad': 'arequipa'}\n",
        "persona_2 = {'nombre': 'franchesca', 'apellido': 'molina', 'edad': 20, 'ciudad': 'areqiupa'}\n",
        "persona_3 = {'nombre': 'luis', 'apellido': 'paredes', 'edad': 17, 'ciudad': 'tacna'}\n",
        "\n",
        "personas = [persona_1, persona_2, persona_3]\n",
        "\n",
        "for persona in personas:\n",
        "  print(\"-----------------------------------\")\n",
        "  print(f\"El nombre es: {persona.get('nombre')}\")\n",
        "  print(f\"El apellido es: {persona.get('apellido')}\")\n",
        "  print(f\"La edad es: {persona.get('edad')}\")\n",
        "  print(f\"La ciudad es: {persona.get('ciudad')}\")\n",
        "  "
      ],
      "metadata": {
        "colab": {
          "base_uri": "https://localhost:8080/"
        },
        "id": "IzW6OIuhhAtE",
        "outputId": "1d242737-28b7-4fd1-b87f-c4abf2719680"
      },
      "execution_count": 104,
      "outputs": [
        {
          "output_type": "stream",
          "name": "stdout",
          "text": [
            "-----------------------------------\n",
            "El nombre es: fredy\n",
            "El apellido es: pauca\n",
            "La edad es: 33\n",
            "La ciudad es: arequipa\n",
            "-----------------------------------\n",
            "El nombre es: franchesca\n",
            "El apellido es: molina\n",
            "La edad es: 20\n",
            "La ciudad es: areqiupa\n",
            "-----------------------------------\n",
            "El nombre es: luis\n",
            "El apellido es: paredes\n",
            "La edad es: 17\n",
            "La ciudad es: tacna\n"
          ]
        }
      ]
    },
    {
      "cell_type": "markdown",
      "source": [
        "---\n",
        "\n",
        "<b> Ejercicio 2</b>\n",
        "\n",
        "Haga varios diccionarios, donde cada diccionario represente una mascota diferente. En cada diccionario, incluya el tipo de animal y el nombre del dueño. Guarde estos diccionarios en una lista llamada mascotas. A continuación, recorra su lista y, mientras lo hace, imprima todo lo que sepa sobre cada mascota."
      ],
      "metadata": {
        "id": "oU2XiQHAnAtB"
      }
    },
    {
      "cell_type": "code",
      "source": [
        "mascota_1 = {'nombre': 'kiara', 'raza': 'pastor aleman', 'dueño': 'fredy'}\n",
        "mascota_2 = {'nombre': 'ringo', 'raza': 'felino', 'dueño': 'maria'}\n",
        "mascota_3 = {'nombre': 'lucas', 'raza': 'salchicha', 'dueño': 'luis'}\n",
        "\n",
        "\n",
        "mascotas = [mascota_1, mascota_2, mascota_3]\n",
        "\n",
        "for mascota in mascotas:\n",
        "  print(\"-----------------------------------\")\n",
        "  print(f\"El nombre es: {mascota.get('nombre')}\")\n",
        "  print(f\"La raza es: {mascota.get('raza')}\")\n",
        "  print(f\"El dueño es: {mascota.get('dueño')}\")\n",
        "  "
      ],
      "metadata": {
        "colab": {
          "base_uri": "https://localhost:8080/"
        },
        "id": "B4o0C9M8iZ6N",
        "outputId": "a934cbf2-10d9-45cd-e8d2-df448edca6b5"
      },
      "execution_count": 105,
      "outputs": [
        {
          "output_type": "stream",
          "name": "stdout",
          "text": [
            "-----------------------------------\n",
            "El nombre es: kiara\n",
            "La raza es: pastor aleman\n",
            "El dueño es: fredy\n",
            "-----------------------------------\n",
            "El nombre es: ringo\n",
            "La raza es: felino\n",
            "El dueño es: maria\n",
            "-----------------------------------\n",
            "El nombre es: lucas\n",
            "La raza es: salchicha\n",
            "El dueño es: luis\n"
          ]
        }
      ]
    },
    {
      "cell_type": "markdown",
      "source": [
        "---\n",
        "\n",
        "<b> Ejercicio 3</b>\n",
        "\n",
        "Haga un diccionario llamado lugares_favoritos. Piense en tres nombres para usar como llaves en el diccionario y almacene de uno a tres lugares favoritos para cada persona. Recorre el diccionario e imprime el nombre de cada persona y sus lugares favoritos."
      ],
      "metadata": {
        "id": "YH2BoPpVnMLu"
      }
    },
    {
      "cell_type": "code",
      "source": [
        "lugar1 = str(input(\"Ingrese el lugar favorito de fredy:\\t\"))\n",
        "lugar2 = str(input(\"Ingrese el lugar favorito de franchesca:\\t\"))\n",
        "lugar3 = str(input(\"Ingrese el lugar favorito de mary:\\t\"))\n",
        "\n",
        "lugares_favoritos = {\n",
        "    'fredy' : lugar1,\n",
        "    'franchesca' : lugar2,\n",
        "    'mary' : lugar3,\n",
        "}\n",
        "\n",
        "print(\"\\n\\t\\tLUGARES FAVORITOS\")\n",
        "for nombre, lugar in lugares_favoritos.items():\n",
        "  print(f\"Para {nombre.title()} su lugar favorito es {lugar.title()}.\")"
      ],
      "metadata": {
        "colab": {
          "base_uri": "https://localhost:8080/"
        },
        "id": "-fXNMhe1jDfF",
        "outputId": "831f55a9-3ba7-4d33-df15-e5bc040a3203"
      },
      "execution_count": 106,
      "outputs": [
        {
          "output_type": "stream",
          "name": "stdout",
          "text": [
            "Ingrese el lugar favorito de fredy:\tarequipa\n",
            "Ingrese el lugar favorito de franchesca:\tcusco\n",
            "Ingrese el lugar favorito de mary:\ttacna\n",
            "\n",
            "\t\tLUGARES FAVORITOS\n",
            "Para Fredy su lugar favorito es Arequipa.\n",
            "Para Franchesca su lugar favorito es Cusco.\n",
            "Para Mary su lugar favorito es Tacna.\n"
          ]
        }
      ]
    },
    {
      "cell_type": "markdown",
      "source": [
        "---\n",
        "\n",
        "<b> Ejercicio 4</b>\n",
        "\n",
        "Haz un diccionario llamado ciudades. Usa los nombres de tres ciudades como llaves en tu diccionario. Cree un diccionario de información sobre cada ciudad e incluya el país en el que se encuentra la ciudad, su población aproximada y un dato sobre esa ciudad. Las claves para el diccionario de cada ciudad deben ser algo como país, población y hecho. Imprime el nombre de cada ciudad y toda la información que tengas almacenada sobre ella."
      ],
      "metadata": {
        "id": "YjkTHXHWnY-y"
      }
    },
    {
      "cell_type": "code",
      "source": [
        "ciudad_1 = {'ciudad': 'arequipa', 'pais': 'peru', 'poblacion': 1.0 ,'hecho': 'ciudad blanca'}\n",
        "ciudad_2 = {'ciudad': 'cusco', 'pais': 'peru', 'poblacion': 0.42 , 'hecho': 'ciudad historica'}\n",
        "ciudad_3 = {'ciudad': 'tacna', 'pais': 'peru', 'poblacion': 0.28 , 'hecho': 'ciudad heroica'}\n",
        "\n",
        "ciudades = [ciudad_1, ciudad_2, ciudad_3]\n",
        "\n",
        "for ciudad in ciudades:\n",
        "  print(\"-----------------------------------\")\n",
        "  print(f\"La ciudad es: {ciudad.get('ciudad')}\")\n",
        "  print(f\"El pais es: {ciudad.get('pais')}\")\n",
        "  print(f\"Tiene una poblacion de: {ciudad.get('poblacion')} Millones\")\n",
        "  print(f\"Reconocida como: {ciudad.get('hecho')}\")"
      ],
      "metadata": {
        "id": "63Gj1XSK2sCW",
        "outputId": "e93f30af-3977-409e-8a22-a46d048a45c5",
        "colab": {
          "base_uri": "https://localhost:8080/"
        }
      },
      "execution_count": 107,
      "outputs": [
        {
          "output_type": "stream",
          "name": "stdout",
          "text": [
            "-----------------------------------\n",
            "La ciudad es: arequipa\n",
            "El pais es: peru\n",
            "Tiene una poblacion de: 1.0 Millones\n",
            "Reconocida como: ciudad blanca\n",
            "-----------------------------------\n",
            "La ciudad es: cusco\n",
            "El pais es: peru\n",
            "Tiene una poblacion de: 0.42 Millones\n",
            "Reconocida como: ciudad historica\n",
            "-----------------------------------\n",
            "La ciudad es: tacna\n",
            "El pais es: peru\n",
            "Tiene una poblacion de: 0.28 Millones\n",
            "Reconocida como: ciudad heroica\n"
          ]
        }
      ]
    },
    {
      "cell_type": "markdown",
      "source": [
        "---\n",
        "\n",
        "<b> Ejercicio 5</b>\n",
        "\n",
        "Ahora estamos trabajando con ejemplos que son lo suficientemente complejos como para que puedan extenderse de varias maneras. Utilice uno de los programas de este laboratorio y amplíelo agregando nuevas claves y valores, cambiando el contexto del programa o mejorando el formato de la salida.\n",
        "\n",
        "---"
      ],
      "metadata": {
        "id": "hMvNIar-nqAr"
      }
    },
    {
      "cell_type": "code",
      "source": [
        "name1 = str(input(\"Ingrese su nombre:\\t\"))\n",
        "name2 = str(input(\"Ingrese el nombre de su novia:\\t\"))\n",
        "name3 = str(input(\"Ingrese el nombre de su mascota:\\t\"))\n",
        "\n",
        "print(f\"\\n\\t-------- TURNO DE {name1.title()} --------\")\n",
        "lugar1 = str(input(\"Ingrese su lugar favorito:\\t\"))\n",
        "plato1 = str(input(\"Ingrese su plato favorito:\\t\"))\n",
        "\n",
        "print(f\"\\n\\t-------- TURNO DE SU NOVIA {name2.title()} --------\")\n",
        "lugar2 = str(input(\"Ingrese su lugar favorito:\\t\"))\n",
        "plato2 = str(input(\"Ingrese su plato favorito:\\t\"))\n",
        "\n",
        "print(f\"\\n\\t-------- TURNO DE SU MASCOTA {name3.title()} --------\")\n",
        "lugar3 = str(input(\"Ingrese su lugar favorito:\\t\"))\n",
        "plato3 = str(input(\"Ingrese su plato favorito:\\t\"))\n",
        "\n",
        "lugares_favoritos = {\n",
        "    name1 : lugar1,\n",
        "    name2 : lugar2,\n",
        "    name3 : lugar3,\n",
        "}\n",
        "platos_favoritos = {\n",
        "    name1 : plato1,\n",
        "    name2 : plato2,\n",
        "    name3 : plato3,\n",
        "}\n",
        "\n",
        "print(\"\\n\\t\\t----------- GUSTOS  ----------\")\n",
        "print(\"\\n\")\n",
        "for nombre, lugar in lugares_favoritos.items():\n",
        "    print(f\"{nombre.title()} tiene como destino favorito {lugar.title()}.\")\n",
        "print(\"\\n\")\n",
        "for nombre, plato in platos_favoritos.items():\n",
        "  print(f\"{nombre.title()} tiene como comida favorita el {plato.title()}.\")"
      ],
      "metadata": {
        "colab": {
          "base_uri": "https://localhost:8080/"
        },
        "id": "qqhMsIwzjrVY",
        "outputId": "376f6569-f506-41c7-a19b-e3446ee377f3"
      },
      "execution_count": 108,
      "outputs": [
        {
          "output_type": "stream",
          "name": "stdout",
          "text": [
            "Ingrese su nombre:\tfredy\n",
            "Ingrese el nombre de su novia:\tfranchesca\n",
            "Ingrese el nombre de su mascota:\tkiara\n",
            "\n",
            "\t-------- TURNO DE Fredy --------\n",
            "Ingrese su lugar favorito:\tarequipa\n",
            "Ingrese su plato favorito:\tadobo\n",
            "\n",
            "\t-------- TURNO DE SU NOVIA Franchesca --------\n",
            "Ingrese su lugar favorito:\tcusco\n",
            "Ingrese su plato favorito:\ttequeños\n",
            "\n",
            "\t-------- TURNO DE SU MASCOTA Kiara --------\n",
            "Ingrese su lugar favorito:\tla cama\n",
            "Ingrese su plato favorito:\tcroquetas\n",
            "\n",
            "\t\t----------- GUSTOS  ----------\n",
            "\n",
            "\n",
            "Fredy tiene como destino favorito Arequipa.\n",
            "Franchesca tiene como destino favorito Cusco.\n",
            "Kiara tiene como destino favorito La Cama.\n",
            "\n",
            "\n",
            "Fredy tiene como comida favorita el Adobo.\n",
            "Franchesca tiene como comida favorita el Tequeños.\n",
            "Kiara tiene como comida favorita el Croquetas.\n"
          ]
        }
      ]
    },
    {
      "cell_type": "markdown",
      "source": [
        "---\n",
        "\n",
        "# Gracias por completar este laboratorio!\n",
        "\n",
        "---\n"
      ],
      "metadata": {
        "id": "LY_03M0BoJZQ"
      }
    }
  ]
}