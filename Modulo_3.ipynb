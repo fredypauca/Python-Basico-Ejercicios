{
  "nbformat": 4,
  "nbformat_minor": 0,
  "metadata": {
    "colab": {
      "name": "Copia de modulo 3.ipynb",
      "provenance": [],
      "collapsed_sections": [
        "4MH4CoJqwGiI",
        "8NrI0kgCOLN2",
        "N6DxNYhpO_PL",
        "Ut0OnphvWeOw",
        "qML64F41WRTX",
        "c4ojH2gyWAYW",
        "vYeRmZSCVxE8",
        "zl5-pV1XfXi1",
        "EpkCSrR6fqEh",
        "yqpTqtBrf5pF",
        "MXXM4w69aIll"
      ],
      "include_colab_link": true
    },
    "kernelspec": {
      "name": "python3",
      "display_name": "Python 3"
    },
    "language_info": {
      "name": "python"
    }
  },
  "cells": [
    {
      "cell_type": "markdown",
      "metadata": {
        "id": "view-in-github",
        "colab_type": "text"
      },
      "source": [
        "<a href=\"https://colab.research.google.com/github/fredypauca/Python-Basico-Ejercicios/blob/main/Modulo_3.ipynb\" target=\"_parent\"><img src=\"https://colab.research.google.com/assets/colab-badge.svg\" alt=\"Open In Colab\"/></a>"
      ]
    },
    {
      "cell_type": "markdown",
      "source": [
        "<img src=\"https://www.ctic.uni.edu.pe/wp-content/uploads/2022/04/588px-x-348px-web-1.png\" alt=\"HTML5 Icon\" width=\"900\" height=\"350\" >"
      ],
      "metadata": {
        "id": "kt2I6UBTXfTx"
      }
    },
    {
      "cell_type": "markdown",
      "source": [
        "<h1 align=center><font size = 5>UNIDAD III - FUNCIONES\n",
        "</font></h1>\n",
        "\n",
        "---"
      ],
      "metadata": {
        "id": "OVQ2JpIkXhGH"
      }
    },
    {
      "cell_type": "markdown",
      "source": [
        "## Tabla de Contenidos\n",
        "\n",
        "<div class=\"alert alert-block alert-info\" style=\"margin-top: 20px\">\n",
        "\n",
        "<font size = 3>\n",
        "    \n",
        "1. <a href=\"#item31\">Definiendo funciones</a>\n",
        "2. <a href=\"#item31\">Usando información dentro de funciones</a>  \n",
        "3. <a href=\"#item31\">Valores de retorno</a>  \n",
        "4. <a href=\"#item31\">Usando funciones con loops while</a>  \n",
        "5. <a href=\"#item31\">Usando listas</a>  \n",
        "6. <a href=\"#item31\">Pasar un número arbitrario de argumentos</a>  \n",
        "7. <a href=\"#item31\">Almacenamiento de funciones con módulos</a>  \n",
        "8. <a href=\"#item31\">Clases</a>  \n",
        "\n",
        "</font>\n",
        "</div>\n",
        "\n",
        "---"
      ],
      "metadata": {
        "id": "dR78NGA6Xv_r"
      }
    },
    {
      "cell_type": "markdown",
      "source": [
        "#2. Usando información dentro de funciones"
      ],
      "metadata": {
        "id": "p7e7CUC_YjWU"
      }
    },
    {
      "cell_type": "markdown",
      "source": [
        "---\n",
        "\n",
        "<b> Ejercicio 1</b>\n",
        "\n",
        "Escriba una función llamada **display_message()** que imprima una oración que diga a todos lo que está aprendiendo en este capítulo. Llame a la función y asegúrese de que el mensaje se muestre correctamente.\n"
      ],
      "metadata": {
        "id": "D8I5O9AjZgLY"
      }
    },
    {
      "cell_type": "code",
      "source": [
        "def display_message():\n",
        "  \"\"\"imprimir una oración que diga a todos lo que está aprendiendo en este capítulo\"\"\"\n",
        "  print(\"Estamos aprendiendo de funciones en Python!!!\")\n",
        "  "
      ],
      "metadata": {
        "id": "R0aZ-TvoVoPW"
      },
      "execution_count": null,
      "outputs": []
    },
    {
      "cell_type": "code",
      "source": [
        "display_message()"
      ],
      "metadata": {
        "id": "OFcSWrPsWxBS",
        "outputId": "41a7f25f-5670-4844-fb4f-0a2c20dd77a9",
        "colab": {
          "base_uri": "https://localhost:8080/"
        }
      },
      "execution_count": null,
      "outputs": [
        {
          "output_type": "stream",
          "name": "stdout",
          "text": [
            "Estamos aprendiendo de funciones en Python!!!\n"
          ]
        }
      ]
    },
    {
      "cell_type": "markdown",
      "source": [
        "\n",
        "---\n",
        "\n",
        "<b> Ejercicio 2</b>\n",
        "\n",
        "Escriba una función llamada **favorite_book()** que acepte un parámetro, título. La función debe imprimir un mensaje, como Uno de mis libros favoritos es Alicia en el país de las maravillas. Llame a la función, asegurándose de incluir el título de un libro como argumento en la llamada a la función.\n",
        "\n",
        "---"
      ],
      "metadata": {
        "id": "hk_i1gS_bvyv"
      }
    },
    {
      "cell_type": "code",
      "source": [
        "def favorite_book(bookname):\n",
        "  \"\"\"Esta funcion imprime mi libro faborito\"\"\"\n",
        "  print(f'Uno de mis libros favoritos es {bookname}')\n"
      ],
      "metadata": {
        "id": "BRy_yROXVpdr"
      },
      "execution_count": null,
      "outputs": []
    },
    {
      "cell_type": "code",
      "source": [
        "favorite_book('El Padrino')"
      ],
      "metadata": {
        "id": "RNnx_YErXVj3",
        "outputId": "a87a0ede-ee0a-4af1-af55-057a3b2dd95f",
        "colab": {
          "base_uri": "https://localhost:8080/"
        }
      },
      "execution_count": null,
      "outputs": [
        {
          "output_type": "stream",
          "name": "stdout",
          "text": [
            "Uno de mis libros favoritos es El Padrino\n"
          ]
        }
      ]
    },
    {
      "cell_type": "markdown",
      "source": [
        "### Evitar errores de argumento"
      ],
      "metadata": {
        "id": "21XnPX-tssX5"
      }
    },
    {
      "cell_type": "markdown",
      "source": [
        "---\n",
        "\n",
        "<b> Ejercicio 1</b>\n",
        "\n",
        "Escribe una función llamada **make_shirt()** que acepte un tamaño y el texto de un mensaje que debería estar impreso en la camiseta. La función debe imprimir una oración que resuma el tamaño de la camisa y el mensaje impreso en ella.\n",
        "\n",
        "Llame a la función una vez usando argumentos posicionales para hacer una camisa. Llame a la función por segunda vez usando argumentos de palabras clave.\n"
      ],
      "metadata": {
        "id": "ixT6ac8IrM_m"
      }
    },
    {
      "cell_type": "code",
      "source": [
        "def make_shirt(size, message):\n",
        "  \"\"\"La función imprime una oración que resume el tamaño de la camiseta y el mensaje impreso en ella.\"\"\"\n",
        "  print(f'El tamaño de la camiseta es {size} y el mensaje será \"{message}\".')\n",
        "\n"
      ],
      "metadata": {
        "id": "WUH6093hetPR"
      },
      "execution_count": null,
      "outputs": []
    },
    {
      "cell_type": "code",
      "source": [
        "make_shirt('30', 'Yo amo Python')"
      ],
      "metadata": {
        "id": "QDgZRP4afUb4",
        "outputId": "6d1fac5a-6b5d-4ec6-ed8e-10ef4fb0e785",
        "colab": {
          "base_uri": "https://localhost:8080/"
        }
      },
      "execution_count": null,
      "outputs": [
        {
          "output_type": "stream",
          "name": "stdout",
          "text": [
            "El tamaño de la camiseta es 30 y el mensaje será \"Yo amo Python\".\n"
          ]
        }
      ]
    },
    {
      "cell_type": "code",
      "source": [
        "make_shirt(size = '30', message = 'Yo amo Python')"
      ],
      "metadata": {
        "id": "9vRwPzcyfkad",
        "outputId": "cf687654-484f-4a6e-bb39-f0f21c2c05a7",
        "colab": {
          "base_uri": "https://localhost:8080/"
        }
      },
      "execution_count": null,
      "outputs": [
        {
          "output_type": "stream",
          "name": "stdout",
          "text": [
            "El tamaño de la camiseta es 30 y el mensaje será \"Yo amo Python\".\n"
          ]
        }
      ]
    },
    {
      "cell_type": "code",
      "source": [
        "make_shirt(message = 'Yo amo Python',size = '30')"
      ],
      "metadata": {
        "colab": {
          "base_uri": "https://localhost:8080/"
        },
        "id": "vjGF-G3cXPx9",
        "outputId": "72fe7d50-505a-472a-bc49-166f82f9966e"
      },
      "execution_count": null,
      "outputs": [
        {
          "output_type": "stream",
          "name": "stdout",
          "text": [
            "El tamaño de la camiseta es 30 y el mensaje será \"Yo amo Python\".\n"
          ]
        }
      ]
    },
    {
      "cell_type": "markdown",
      "source": [
        "---\n",
        "\n",
        "<b> Ejercicio 2</b>\n",
        "\n",
        "Modifique la función **make_shirt()** para que las camisetas sean grandes por defecto con un mensaje que diga Me encanta Python. Haz una camiseta grande y una camiseta mediana con el mensaje predeterminado y una camiseta de cualquier tamaño con un mensaje diferente.\n"
      ],
      "metadata": {
        "id": "SFKpbJpntvpg"
      }
    },
    {
      "cell_type": "code",
      "source": [
        "def make_shirt(size = 'grande', message = 'Me encanta Python'):\n",
        "  \"\"\"La función imprime una oración que resume el tamaño de la camiseta y el mensaje impreso en ella.\"\"\"\n",
        "  print(f'El tamaño de la camiseta es {size} y el mensaje será \"{message}\".')\n",
        "\n"
      ],
      "metadata": {
        "id": "wQnffLX4fzcB"
      },
      "execution_count": null,
      "outputs": []
    },
    {
      "cell_type": "code",
      "source": [
        "make_shirt()\n",
        "make_shirt(size = 'mediano')"
      ],
      "metadata": {
        "id": "31XFUoySf-Ik",
        "outputId": "2321a8cd-76a1-4a86-b4ef-3c3d7a26fcbd",
        "colab": {
          "base_uri": "https://localhost:8080/"
        }
      },
      "execution_count": null,
      "outputs": [
        {
          "output_type": "stream",
          "name": "stdout",
          "text": [
            "El tamaño de la camiseta es grande y el mensaje será \"Me encanta Python\".\n",
            "El tamaño de la camiseta es mediano y el mensaje será \"Me encanta Python\".\n"
          ]
        }
      ]
    },
    {
      "cell_type": "code",
      "source": [
        "make_shirt(message = 'Python es sencillo', size = 'pequeño')"
      ],
      "metadata": {
        "id": "ML-wEYnOgIcu",
        "outputId": "9b3cf044-2abb-44b3-8169-199784946391",
        "colab": {
          "base_uri": "https://localhost:8080/"
        }
      },
      "execution_count": null,
      "outputs": [
        {
          "output_type": "stream",
          "name": "stdout",
          "text": [
            "El tamaño de la camiseta es pequeño y el mensaje será \"Python es sencillo\".\n"
          ]
        }
      ]
    },
    {
      "cell_type": "markdown",
      "source": [
        "---\n",
        "\n",
        "<b> Ejercicio 3</b>\n",
        "\n",
        "Escribe una función llamada **describe_city()** que acepte el nombre de una ciudad y su país. La función debe imprimir una oración simple, como Reykjavik está en Islandia. Asigne al parámetro para el país un valor predeterminado. Llame a su función para tres ciudades diferentes, al menos una de las cuales no se encuentra en el país predeterminado.\n",
        "\n",
        "----"
      ],
      "metadata": {
        "id": "G0qpoz40uBJt"
      }
    },
    {
      "cell_type": "code",
      "source": [
        "def describe_city(ciudad, pais = 'Perú'):\n",
        "  \"\"\"This function display a city with it's country\"\"\"\n",
        "  print(f'{ciudad} esta en {pais}')\n",
        "  "
      ],
      "metadata": {
        "id": "wYkmaCJTgYzQ"
      },
      "execution_count": null,
      "outputs": []
    },
    {
      "cell_type": "code",
      "source": [
        "describe_city('Lima')"
      ],
      "metadata": {
        "id": "yG4HIzFVg2b-",
        "outputId": "687539fc-2ddb-4398-abcb-e523e9a01ab5",
        "colab": {
          "base_uri": "https://localhost:8080/"
        }
      },
      "execution_count": null,
      "outputs": [
        {
          "output_type": "stream",
          "name": "stdout",
          "text": [
            "Lima esta en Perú\n"
          ]
        }
      ]
    },
    {
      "cell_type": "code",
      "source": [
        "describe_city(ciudad = 'Arequipa')"
      ],
      "metadata": {
        "id": "gnw4dg72g8bB",
        "outputId": "9ab752a4-fb37-435f-b2e5-c44b6e4af6d3",
        "colab": {
          "base_uri": "https://localhost:8080/"
        }
      },
      "execution_count": null,
      "outputs": [
        {
          "output_type": "stream",
          "name": "stdout",
          "text": [
            "Arequipa esta en Perú\n"
          ]
        }
      ]
    },
    {
      "cell_type": "code",
      "source": [
        "describe_city(ciudad = 'Buenos aires', pais= 'Argentina')"
      ],
      "metadata": {
        "id": "kOtceq7bhBRh",
        "outputId": "9e9948eb-8876-49bb-89cc-0628938b781b",
        "colab": {
          "base_uri": "https://localhost:8080/"
        }
      },
      "execution_count": null,
      "outputs": [
        {
          "output_type": "stream",
          "name": "stdout",
          "text": [
            "Buenos aires esta en Argentina\n"
          ]
        }
      ]
    },
    {
      "cell_type": "code",
      "source": [
        "describe_city(pais= 'Argentina',ciudad = 'Buenos aires')"
      ],
      "metadata": {
        "colab": {
          "base_uri": "https://localhost:8080/"
        },
        "id": "A-CVdaYvY2A0",
        "outputId": "19cb416b-eff1-4d90-d100-d8a2dcfc7203"
      },
      "execution_count": null,
      "outputs": [
        {
          "output_type": "stream",
          "name": "stdout",
          "text": [
            "Buenos aires esta en Argentina\n"
          ]
        }
      ]
    },
    {
      "cell_type": "markdown",
      "source": [
        "# 4. Usando funciones con loops while"
      ],
      "metadata": {
        "id": "tSAkV-as0rdS"
      }
    },
    {
      "cell_type": "markdown",
      "source": [
        "---\n",
        "\n",
        "<b> Ejercicio 1</b>\n",
        "\n",
        "Escribe una función llamada **city_country()** que tome el nombre de una ciudad y su país. La función debería devolver una cadena con el formato siguiente:\n",
        "\n",
        "\"Santiago, Chile\"\n",
        "\n",
        "Llame a su función con al menos tres pares de ciudades y países e imprima los valores que se devuelven.\n"
      ],
      "metadata": {
        "id": "WtFtOrbS4BzE"
      }
    },
    {
      "cell_type": "code",
      "source": [
        "def city_country(ciudad, pais):\n",
        "   \"\"\" retorna paises y ciudades\"\"\"\n",
        "   full_city = f\" {ciudad}, {pais} \"\n",
        "   return full_city.title()"
      ],
      "metadata": {
        "id": "WSb8L5D2yJwU"
      },
      "execution_count": null,
      "outputs": []
    },
    {
      "cell_type": "code",
      "source": [
        "print(city_country(ciudad=\"buenos aires\", pais=\"argentina\"))\n",
        "print(city_country(ciudad=\"lima\", pais=\"peru\"))\n",
        "print(city_country(ciudad=\"montevideo\", pais=\"uruguay\"))"
      ],
      "metadata": {
        "colab": {
          "base_uri": "https://localhost:8080/"
        },
        "id": "O61B6bi38LTs",
        "outputId": "84eeaafc-81b4-4142-9427-6dcb16e82aae"
      },
      "execution_count": null,
      "outputs": [
        {
          "output_type": "stream",
          "name": "stdout",
          "text": [
            " Buenos Aires, Argentina \n",
            " Lima, Peru \n",
            " Montevideo, Uruguay \n"
          ]
        }
      ]
    },
    {
      "cell_type": "markdown",
      "source": [
        "---\n",
        "\n",
        "<b> Ejercicio 2</b>\n",
        "\n",
        "Escriba una función llamada **make_album()** que cree un diccionario que describa un álbum de música. La función debe tomar el nombre de un artista y el título de un álbum, y debe devolver un diccionario que contenga estos dos datos. Utilice la función para crear tres diccionarios que representen diferentes álbumes. Imprima cada valor devuelto para mostrar que los diccionarios están almacenando la información del álbum correctamente.\n",
        "\n",
        "Use <b>None</b> para agregar un parámetro opcional a **make_album()** que le permita almacenar la cantidad de canciones en un álbum. Si la línea de llamada incluye un valor para la cantidad de canciones, agregue ese valor al diccionario del álbum. Realice al menos una nueva llamada de función que incluya la cantidad de canciones en un álbum."
      ],
      "metadata": {
        "id": "z06Pz7sy4YG0"
      }
    },
    {
      "cell_type": "code",
      "source": [
        "def make_album(cantante,album,numero=None):\n",
        "    \"\"\"retorna la informacion del artista.\"\"\"\n",
        "    artista = {'nombre': cantante, 'titulo': album}\n",
        "    if numero:\n",
        "        artista['numero'] = numero\n",
        "    return artista"
      ],
      "metadata": {
        "id": "bAdr9fvkSqq7"
      },
      "execution_count": null,
      "outputs": []
    },
    {
      "cell_type": "code",
      "source": [
        "musician = make_album('nirvana', 'nevermine', 13)\n",
        "print(musician)"
      ],
      "metadata": {
        "colab": {
          "base_uri": "https://localhost:8080/"
        },
        "id": "EQwT09fNUdcS",
        "outputId": "3d08e0fa-797b-4507-bda8-ca5bf6d25899"
      },
      "execution_count": null,
      "outputs": [
        {
          "output_type": "stream",
          "name": "stdout",
          "text": [
            "{'nombre': 'nirvana', 'titulo': 'nevermine', 'numero': 13}\n"
          ]
        }
      ]
    },
    {
      "cell_type": "code",
      "source": [
        "musician = make_album('mana', 'rayando',10)\n",
        "print(musician)"
      ],
      "metadata": {
        "colab": {
          "base_uri": "https://localhost:8080/"
        },
        "id": "svz0usw6W-oq",
        "outputId": "58e229cf-e98a-4dea-e17d-1a3354d7730f"
      },
      "execution_count": null,
      "outputs": [
        {
          "output_type": "stream",
          "name": "stdout",
          "text": [
            "{'nombre': 'mana', 'titulo': 'rayando', 'numero': 10}\n"
          ]
        }
      ]
    },
    {
      "cell_type": "markdown",
      "source": [
        "---\n",
        "\n",
        "<b> Ejercicio 3</b>\n",
        "\n",
        "Comience con su programa del ejercicio anterior. Escriba un ciclo while que permita a los usuarios ingresar el artista y el título de un álbum. Una vez que tenga esa información, llame a **make_album()** con la entrada del usuario e imprima el diccionario que se crea. Asegúrese de incluir un valor de salida en el ciclo while.\n",
        "\n",
        "---"
      ],
      "metadata": {
        "id": "5iazrd6w5n-m"
      }
    },
    {
      "cell_type": "code",
      "source": [
        "def make_album(cantante,album,numero=None):\n",
        "    \"\"\"Retorna un diccionario con la informacion del artista.\"\"\"\n",
        "    artista = {'nombre': cantante, 'titulo': album}\n",
        "    if  numero:\n",
        "        artista['numero'] = numero\n",
        "    return artista\n",
        "while True:\n",
        "  print(\"escriba salir para salir\")\n",
        "\n",
        "  f_cantante=input(\"cantante: \")\n",
        "  if f_cantante==\"salir\":\n",
        "    break\n",
        "  \n",
        "  f_album=input(\"album: \")\n",
        "  if f_album==\"salir\":\n",
        "    break\n",
        "\n",
        "  f_canciones=input(\"canciones: \")\n",
        "  if f_canciones==\"salir\":\n",
        "    break\n",
        "\n",
        "  disco=make_album(f_cantante,f_album,f_canciones)\n",
        "  print(disco)"
      ],
      "metadata": {
        "colab": {
          "base_uri": "https://localhost:8080/"
        },
        "id": "C_KIOWxUYa9c",
        "outputId": "2247b9dd-4b02-4325-8154-8c9cd42a937f"
      },
      "execution_count": null,
      "outputs": [
        {
          "name": "stdout",
          "output_type": "stream",
          "text": [
            "escriba salir para salir\n",
            "cantante: salir\n"
          ]
        }
      ]
    },
    {
      "cell_type": "code",
      "source": [],
      "metadata": {
        "id": "pYvC7s2QYd5U"
      },
      "execution_count": null,
      "outputs": []
    },
    {
      "cell_type": "markdown",
      "source": [
        "# 5. Usando Listas"
      ],
      "metadata": {
        "id": "pdvnfTPo6-Lq"
      }
    },
    {
      "cell_type": "markdown",
      "source": [
        "### Modificar una lista en una función"
      ],
      "metadata": {
        "id": "irQJwQco81wH"
      }
    },
    {
      "cell_type": "markdown",
      "source": [
        "---\n",
        "\n",
        "<b> Ejercicio 1</b>\n",
        "\n",
        "Haz una lista que contenga una serie de mensajes de texto cortos. Pase la lista a una función llamada **show_messages()**, que imprime cada mensaje de texto.\n"
      ],
      "metadata": {
        "id": "AxoQ8UkPLzhr"
      }
    },
    {
      "cell_type": "code",
      "source": [
        "def show_messages(lista):\n",
        "  \"Esta funcion imprime todos los saludos de la lista\"\n",
        "  for mensaje in lista:\n",
        "    print(f'\\n{mensaje}')\n"
      ],
      "metadata": {
        "id": "s0rWgO0K5huY"
      },
      "execution_count": null,
      "outputs": []
    },
    {
      "cell_type": "code",
      "source": [
        "show_messages(['hola','buenos dias','buenas tardes'])"
      ],
      "metadata": {
        "id": "Fuy0Z6jf6IQd",
        "outputId": "ec4d6a9d-3420-4833-b87a-84e0fced8288",
        "colab": {
          "base_uri": "https://localhost:8080/"
        }
      },
      "execution_count": null,
      "outputs": [
        {
          "output_type": "stream",
          "name": "stdout",
          "text": [
            "\n",
            "hola\n",
            "\n",
            "buenos dias\n",
            "\n",
            "buenas tardes\n"
          ]
        }
      ]
    },
    {
      "cell_type": "markdown",
      "source": [
        "---\n",
        "\n",
        "<b> Ejercicio 2</b>\n",
        "\n",
        "Comience con una copia de su programa del Ejercicio anterior. Escriba una función llamada **send_messages()** que imprima cada mensaje de texto y mueva cada mensaje a una nueva lista llamada sent_messages a medida que se imprime. Después de llamar a la función, imprima ambas listas para asegurarse de que los mensajes se movieron correctamente."
      ],
      "metadata": {
        "id": "cr6vkbj-L_4Q"
      }
    },
    {
      "cell_type": "code",
      "source": [
        "def show_messages(lista):\n",
        "  \"Esta funcion imprime todos los saludos de la lista\"\n",
        "  for mensaje in lista:\n",
        "    print(f'\\n{mensaje}')"
      ],
      "metadata": {
        "id": "r0kZDa2SVf0d"
      },
      "execution_count": null,
      "outputs": []
    },
    {
      "cell_type": "code",
      "source": [
        "show_messages(['hola','buenos dias','buenas tardes'])\n"
      ],
      "metadata": {
        "colab": {
          "base_uri": "https://localhost:8080/"
        },
        "id": "NFdc8OK1VjuC",
        "outputId": "0cf71f97-66c0-4d19-e5dd-12a8f7317407"
      },
      "execution_count": null,
      "outputs": [
        {
          "output_type": "stream",
          "name": "stdout",
          "text": [
            "\n",
            "hola\n",
            "\n",
            "buenos dias\n",
            "\n",
            "buenas tardes\n"
          ]
        }
      ]
    },
    {
      "cell_type": "code",
      "source": [
        "show_messages=['Hola', 'Buenos dias', 'buenas noches']\n",
        "sent_messages = []\n",
        "\n",
        "while show_messages:\n",
        "    proceso = show_messages.pop()\n",
        "    print(f\"Saludo: {proceso}\")\n",
        "    sent_messages.append(proceso)\n",
        "\n",
        "print(\"\\nLa nueva lista de saludos es:\")\n",
        "for nueva in sent_messages:\n",
        "    print(nueva)"
      ],
      "metadata": {
        "colab": {
          "base_uri": "https://localhost:8080/"
        },
        "id": "MSrgJy8mDVoG",
        "outputId": "33c6c39d-a473-4ca6-c73a-5d4903420449"
      },
      "execution_count": null,
      "outputs": [
        {
          "output_type": "stream",
          "name": "stdout",
          "text": [
            "Saludo: buenas noches\n",
            "Saludo: Buenos dias\n",
            "Saludo: Hola\n",
            "\n",
            "La nueva lista de saludos es:\n",
            "buenas noches\n",
            "Buenos dias\n",
            "Hola\n"
          ]
        }
      ]
    },
    {
      "cell_type": "markdown",
      "source": [
        "---\n",
        "\n",
        "<b> Ejercicio 3</b>\n",
        "\n",
        "Comience con su trabajo del Ejercicio anterior. Llame a la función **send_messages()** con una copia de la lista de mensajes. Después de llamar a la función, imprima ambas listas para mostrar que la lista original ha conservado sus mensajes.\n",
        "\n",
        "---"
      ],
      "metadata": {
        "id": "DeKTopX9McDP"
      }
    },
    {
      "cell_type": "code",
      "source": [
        "sent_messages=['Hola', 'Buenos dias', 'buenas noches']\n",
        "sent_messages2 = []\n",
        "\n",
        "while sent_messages:\n",
        "    proceso = sent_messages.pop()\n",
        "    print(f\"Saludo: {proceso}\")\n",
        "    sent_messages2.append(proceso)\n",
        "\n",
        "print(\"\\nLa nueva lista de saludos es:\")\n",
        "for nueva in sent_messages2:\n",
        "    print(nueva)"
      ],
      "metadata": {
        "colab": {
          "base_uri": "https://localhost:8080/"
        },
        "id": "pdT2buBqWLTt",
        "outputId": "c299b17a-8355-4b10-ec00-a78a759e939a"
      },
      "execution_count": null,
      "outputs": [
        {
          "output_type": "stream",
          "name": "stdout",
          "text": [
            "Saludo: buenas noches\n",
            "Saludo: Buenos dias\n",
            "Saludo: Hola\n",
            "\n",
            "La nueva lista de saludos es:\n",
            "buenas noches\n",
            "Buenos dias\n",
            "Hola\n"
          ]
        }
      ]
    },
    {
      "cell_type": "markdown",
      "source": [
        "# 6. Pasar un número arbitrario de argumentos"
      ],
      "metadata": {
        "id": "Wnme938ANSqz"
      }
    },
    {
      "cell_type": "markdown",
      "source": [
        "### Uso de argumentos de palabras clave arbitrarias"
      ],
      "metadata": {
        "id": "N6DxNYhpO_PL"
      }
    },
    {
      "cell_type": "markdown",
      "source": [
        "---\n",
        "\n",
        "<b> Ejercicio 1</b>\n",
        "\n",
        "Escribe una función que acepte una lista de artículos que una persona quiere en un sándwich. La función debe tener un parámetro que recopile tantos elementos como proporcione la llamada a la función, y debe imprimir un resumen del sándwich que se está ordenando. Llame a la función tres veces, usando un número diferente de argumentos cada vez."
      ],
      "metadata": {
        "id": "0kYhXVPvQSh_"
      }
    },
    {
      "cell_type": "code",
      "source": [
        "def make_sandwich(*ingredientes):\n",
        "  \"\"\"Esta funcion muestra los ingredientes del sandwhich\"\"\"\n",
        "  print('\\nLa pizza contiene los siguientes ingredientes:')\n",
        "  for elemento in ingredientes:\n",
        "    print(f'- {elemento}')  \n"
      ],
      "metadata": {
        "id": "rDcNXtPv8we_"
      },
      "execution_count": null,
      "outputs": []
    },
    {
      "cell_type": "code",
      "source": [
        "make_sandwich('Queso', 'Doble jamón', 'papas')"
      ],
      "metadata": {
        "id": "oQv0EqcC9cn5",
        "outputId": "61ec2637-ca57-4861-f9e8-f0f18a7d3004",
        "colab": {
          "base_uri": "https://localhost:8080/"
        }
      },
      "execution_count": null,
      "outputs": [
        {
          "output_type": "stream",
          "name": "stdout",
          "text": [
            "\n",
            "La pizza contiene los siguientes ingredientes:\n",
            "- Queso\n",
            "- Doble jamón\n",
            "- papas\n"
          ]
        }
      ]
    },
    {
      "cell_type": "code",
      "source": [
        "make_sandwich(\"hamburguesa\", 'tomate', 'papas')"
      ],
      "metadata": {
        "colab": {
          "base_uri": "https://localhost:8080/"
        },
        "id": "nj0iBF8oHi3Y",
        "outputId": "6b8f448f-2c97-4e1d-dcea-23958957e581"
      },
      "execution_count": null,
      "outputs": [
        {
          "output_type": "stream",
          "name": "stdout",
          "text": [
            "\n",
            "La pizza contiene los siguientes ingredientes:\n",
            "- hamburguesa\n",
            "- tomate\n",
            "- papas\n"
          ]
        }
      ]
    },
    {
      "cell_type": "markdown",
      "source": [
        "---\n",
        "\n",
        "<b> Ejercicio 2</b>\n",
        "\n",
        "Comience con una copia de **user_profile** de ***Uso de argumentos de palabras clave arbitrarias***. Cree un perfil de usted mismo llamando a **build_profile()**, usando su nombre y apellido y otros tres pares clave-valor que lo describan."
      ],
      "metadata": {
        "id": "NXvPqgVZQcx9"
      }
    },
    {
      "cell_type": "code",
      "source": [
        "user_profile = build_profile('Fredy', 'Pauca',\n",
        "                             location='Peru',\n",
        "                             field='ingenieria',\n",
        "                             age=30,\n",
        "                             colour='azul')\n",
        "print(user_profile)"
      ],
      "metadata": {
        "colab": {
          "base_uri": "https://localhost:8080/"
        },
        "id": "zq-9qNLeKug6",
        "outputId": "57adf217-1f6c-4086-86d4-8d8433d02c14"
      },
      "execution_count": null,
      "outputs": [
        {
          "output_type": "stream",
          "name": "stdout",
          "text": [
            "{'location': 'Peru', 'field': 'ingenieria', 'age': 30, 'colour': 'azul', 'first_name': 'Fredy', 'last_name': 'Pauca'}\n"
          ]
        }
      ]
    },
    {
      "cell_type": "markdown",
      "source": [
        "---\n",
        "\n",
        "<b> Ejercicio 3</b>\n",
        "\n",
        "Escribe una función que almacene información sobre un automóvil en un diccionario. La función siempre debe recibir un fabricante y un nombre de modelo. Entonces debería aceptar un número arbitrario de argumentos de palabras clave. Llame a la función con la información requerida y otros dos pares de nombre y valor, como un color o una función opcional. Su función debería funcionar para una llamada como esta:\n",
        "\n",
        "coche = **make_car**('subaru', 'outback', color='blue', tow_package=True)\n",
        "\n",
        "Imprima el diccionario que se devuelve para asegurarse de que toda la información se almacenó correctamente.\n",
        "\n",
        "---"
      ],
      "metadata": {
        "id": "gpj7y6NYQjLq"
      }
    },
    {
      "cell_type": "code",
      "source": [
        "def make_car(fabricante, modelo, **adicional):\n",
        "    \"\"\"Esta funcion detalla las caracteristicas de un vehivulo.\"\"\"\n",
        "    adicional['fabricante'] = fabricante\n",
        "    adicional['modelo'] = modelo\n",
        "    return adicional"
      ],
      "metadata": {
        "id": "beJ39FgeLKhq"
      },
      "execution_count": null,
      "outputs": []
    },
    {
      "cell_type": "code",
      "source": [
        "vehiculo = make_car('subaru', 'forester',\n",
        "                             color='negro',\n",
        "                             tow_package='si')\n",
        "print(vehiculo)"
      ],
      "metadata": {
        "colab": {
          "base_uri": "https://localhost:8080/"
        },
        "id": "LptWjdmhMLJ2",
        "outputId": "0d31ef2a-82f9-4ffb-a74c-3b59dfd9b047"
      },
      "execution_count": null,
      "outputs": [
        {
          "output_type": "stream",
          "name": "stdout",
          "text": [
            "{'color': 'negro', 'tow_package': 'si', 'fabricante': 'subaru', 'modelo': 'forester'}\n"
          ]
        }
      ]
    },
    {
      "cell_type": "markdown",
      "source": [
        "# 8. Introducción a Clases"
      ],
      "metadata": {
        "id": "zl5-pV1XfXi1"
      }
    },
    {
      "cell_type": "markdown",
      "source": [
        "### Creando múltiples instancias"
      ],
      "metadata": {
        "id": "yqpTqtBrf5pF"
      }
    },
    {
      "cell_type": "markdown",
      "source": [
        "---\n",
        "\n",
        "<b> Ejercicio 1</b>\n",
        "\n",
        "Haz una clase llamada Restaurante. El método __init__() para Restaurante debe almacenar dos atributos: un nombre_restaurante y un tipo_cocina. Cree un método llamado describe_restaurant() que imprima estos dos datos y un método llamado open_restaurant() que imprima un mensaje que indique que el restaurante está abierto.\n",
        "\n",
        "Cree una instancia llamada restaurante de su clase. Imprima los dos atributos individualmente y luego llame a ambos métodos."
      ],
      "metadata": {
        "id": "kp8q0QVDgqkZ"
      }
    },
    {
      "cell_type": "code",
      "source": [
        "class restaurante:\n",
        "    \"\"\"Este metodo indica el tipo de restaurante.\"\"\"\n",
        "    def __init__(self, nombre_restaurante, tipo_cocina):\n",
        "        \"\"\"Initialize name and age attributes.\"\"\"\n",
        "        self.nombre = nombre_restaurante\n",
        "        self.tipo = tipo_cocina\n",
        "\n",
        "    def describe_restaurant(self):\n",
        "        \"\"\"\"\"\"\n",
        "        print(f'el restaurante {self.nombre}, se especializa en comida {self.tipo}')\n",
        "\n",
        "    def open_restaurant(self):\n",
        "        \"\"\"\"\"\"\n",
        "        print('El restaurante esta abierto')\n",
        "\n",
        "        "
      ],
      "metadata": {
        "id": "g7gst4DZAlSO"
      },
      "execution_count": null,
      "outputs": []
    },
    {
      "cell_type": "code",
      "source": [
        "my_rest = restaurante('Gaston Acurio', 'Criolla')"
      ],
      "metadata": {
        "id": "kkVZF-lTBS-S"
      },
      "execution_count": null,
      "outputs": []
    },
    {
      "cell_type": "code",
      "source": [
        "my_rest.nombre"
      ],
      "metadata": {
        "id": "Nb2A0lTlBd8O",
        "outputId": "d90b45f0-75cb-49db-ad97-5fc133ae59cf",
        "colab": {
          "base_uri": "https://localhost:8080/",
          "height": 35
        }
      },
      "execution_count": null,
      "outputs": [
        {
          "output_type": "execute_result",
          "data": {
            "text/plain": [
              "'Gaston Acurio'"
            ],
            "application/vnd.google.colaboratory.intrinsic+json": {
              "type": "string"
            }
          },
          "metadata": {},
          "execution_count": 101
        }
      ]
    },
    {
      "cell_type": "code",
      "source": [
        "my_rest.tipo"
      ],
      "metadata": {
        "id": "NymDeOkYkSqW",
        "outputId": "d2d5f172-62b1-4cbe-f883-9acb525cbba7",
        "colab": {
          "base_uri": "https://localhost:8080/",
          "height": 35
        }
      },
      "execution_count": null,
      "outputs": [
        {
          "output_type": "execute_result",
          "data": {
            "text/plain": [
              "'Criolla'"
            ],
            "application/vnd.google.colaboratory.intrinsic+json": {
              "type": "string"
            }
          },
          "metadata": {},
          "execution_count": 102
        }
      ]
    },
    {
      "cell_type": "code",
      "source": [
        "my_rest.describe_restaurant()"
      ],
      "metadata": {
        "id": "Xmx3--qlBhrG",
        "outputId": "f13e03df-d051-4566-f969-237b55f27c96",
        "colab": {
          "base_uri": "https://localhost:8080/"
        }
      },
      "execution_count": null,
      "outputs": [
        {
          "output_type": "stream",
          "name": "stdout",
          "text": [
            "el restaurante Gaston Acurio, se especializa en Criolla\n"
          ]
        }
      ]
    },
    {
      "cell_type": "code",
      "source": [
        "my_rest.open_restaurant()"
      ],
      "metadata": {
        "id": "bpm8vBr2B5mT",
        "outputId": "7a77f967-1446-4093-ffa9-5c45bc59a2cb",
        "colab": {
          "base_uri": "https://localhost:8080/"
        }
      },
      "execution_count": null,
      "outputs": [
        {
          "output_type": "stream",
          "name": "stdout",
          "text": [
            "El restaurante esta abierto\n"
          ]
        }
      ]
    },
    {
      "cell_type": "markdown",
      "source": [
        "---\n",
        "\n",
        "<b> Ejercicio 2</b>\n",
        "\n",
        "Comience con su clase del Ejercicio anterior. Cree tres instancias diferentes de la clase y llame a **describe_restaurant**() para cada instancia."
      ],
      "metadata": {
        "id": "uD1V4MnYgxO2"
      }
    },
    {
      "cell_type": "code",
      "source": [
        "my_rest1 = restaurante('Gaston Acurio', 'Criolla')\n",
        "my_rest2 = restaurante('Señor Limon', 'Marina')\n",
        "my_rest3 = restaurante('Charrua', 'Carnes')"
      ],
      "metadata": {
        "id": "_OeMpa-OCCIm"
      },
      "execution_count": null,
      "outputs": []
    },
    {
      "cell_type": "code",
      "source": [
        "my_rest1.describe_restaurant() "
      ],
      "metadata": {
        "id": "cbxcp9m8CNNF",
        "outputId": "7f5010e8-3005-494e-90fc-9b8f07af61e2",
        "colab": {
          "base_uri": "https://localhost:8080/"
        }
      },
      "execution_count": null,
      "outputs": [
        {
          "output_type": "stream",
          "name": "stdout",
          "text": [
            "el restaurante Gaston Acurio, se especializa en comida Criolla\n"
          ]
        }
      ]
    },
    {
      "cell_type": "code",
      "source": [
        "my_rest2.describe_restaurant() "
      ],
      "metadata": {
        "id": "qiLUedoKCRGo",
        "outputId": "671d2584-8298-46ea-99bd-92c0064424fe",
        "colab": {
          "base_uri": "https://localhost:8080/"
        }
      },
      "execution_count": null,
      "outputs": [
        {
          "output_type": "stream",
          "name": "stdout",
          "text": [
            "el restaurante Señor Limon, se especializa en comida Marina\n"
          ]
        }
      ]
    },
    {
      "cell_type": "code",
      "source": [
        "my_rest3.describe_restaurant() "
      ],
      "metadata": {
        "id": "VISzoteAmABl",
        "outputId": "8742fdaa-06dd-488f-9caa-45b08d09ee63",
        "colab": {
          "base_uri": "https://localhost:8080/"
        }
      },
      "execution_count": null,
      "outputs": [
        {
          "output_type": "stream",
          "name": "stdout",
          "text": [
            "el restaurante Charrua, se especializa en comida Carnes\n"
          ]
        }
      ]
    },
    {
      "cell_type": "markdown",
      "source": [
        "---\n",
        "\n",
        "<b> Ejercicio 3</b>\n",
        "\n",
        "Haz una clase llamada Usuario. Cree dos atributos llamados **first_name** y **last_name**, y luego cree varios otros atributos que normalmente se almacenan en un perfil de usuario. Cree un método llamado **describe_user**() que imprima un resumen de la información del usuario. Cree otro método llamado **greeting_user**() que imprima un saludo personalizado para el usuario.\n",
        "\n",
        "Cree varias instancias que representen a diferentes usuarios y llame a ambos métodos para cada usuario.\n",
        "\n",
        "---"
      ],
      "metadata": {
        "id": "PlqVFUueg2QI"
      }
    },
    {
      "cell_type": "code",
      "source": [
        "class usuario:\n",
        "    \"\"\"Este metodo desctibe al empleado.\"\"\"\n",
        "    def __init__(self, first_name, last_name, age,profes):\n",
        "        \"\"\"Indique sus datos.\"\"\"\n",
        "        self.nombre = first_name\n",
        "        self.apellido = last_name\n",
        "        self.edad = age\n",
        "        self.profesion = profes\n",
        "\n",
        "    def describe_user(self):\n",
        "        \"\"\"\"\"\"\n",
        "        print(f'\\n-Nombre: {self.nombre}  \\n-Apellido: {self.apellido} \\n-Edad:{self.edad} \\n-Profesión: {self.profesion}')\n",
        "\n",
        "    def greeting_user(self):\n",
        "        \"\"\"\"\"\"\n",
        "        print('Bienvenido a la empresa')"
      ],
      "metadata": {
        "id": "4K6pPpfYmv64"
      },
      "execution_count": null,
      "outputs": []
    },
    {
      "cell_type": "code",
      "source": [
        "empleado = usuario('fredy', 'pauca',\"30\",\"ingeniero\")\n",
        "empleado2 = usuario('franchesca', 'molina',\"20\",\"ingeniera\")"
      ],
      "metadata": {
        "id": "b5BAFjBfoWKZ"
      },
      "execution_count": null,
      "outputs": []
    },
    {
      "cell_type": "code",
      "source": [
        "empleado.describe_user()\n",
        "empleado.greeting_user()"
      ],
      "metadata": {
        "id": "kK2oK_QyoksB",
        "outputId": "0921ff31-17a9-41fc-f3f8-8fd94ce8f729",
        "colab": {
          "base_uri": "https://localhost:8080/"
        }
      },
      "execution_count": null,
      "outputs": [
        {
          "output_type": "stream",
          "name": "stdout",
          "text": [
            "\n",
            "-Nombre: fredy  \n",
            "-Apellido: pauca \n",
            "-Edad:30 \n",
            "-Profesión: ingeniero\n",
            "Bienvenido a la empresa\n"
          ]
        }
      ]
    },
    {
      "cell_type": "code",
      "source": [
        "empleado2.describe_user()\n",
        "empleado2.greeting_user()"
      ],
      "metadata": {
        "id": "iWDoZe5eqdnK",
        "outputId": "ace7e923-99ee-41f6-b510-ecee57132eb4",
        "colab": {
          "base_uri": "https://localhost:8080/"
        }
      },
      "execution_count": null,
      "outputs": [
        {
          "output_type": "stream",
          "name": "stdout",
          "text": [
            "\n",
            "-Nombre: franchesca  \n",
            "-Apellido: molina \n",
            "-Edad:20 \n",
            "-Profesión: ingeniera\n",
            "Bienvenido a la empresa\n"
          ]
        }
      ]
    },
    {
      "cell_type": "markdown",
      "source": [
        "---\n",
        "\n",
        "# Gracias por completar este laboratorio!\n",
        "\n",
        "---\n"
      ],
      "metadata": {
        "id": "MXXM4w69aIll"
      }
    }
  ]
}