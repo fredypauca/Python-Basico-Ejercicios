{
  "nbformat": 4,
  "nbformat_minor": 0,
  "metadata": {
    "colab": {
      "name": "Copia de modulo 2.ipynb",
      "provenance": [],
      "include_colab_link": true
    },
    "kernelspec": {
      "name": "python3",
      "display_name": "Python 3"
    },
    "language_info": {
      "name": "python"
    }
  },
  "cells": [
    {
      "cell_type": "markdown",
      "metadata": {
        "id": "view-in-github",
        "colab_type": "text"
      },
      "source": [
        "<a href=\"https://colab.research.google.com/github/fredypauca/Python-Basico-Ejercicios/blob/main/Modulo_2.ipynb\" target=\"_parent\"><img src=\"https://colab.research.google.com/assets/colab-badge.svg\" alt=\"Open In Colab\"/></a>"
      ]
    },
    {
      "cell_type": "markdown",
      "source": [
        "<img src=\"https://www.ctic.uni.edu.pe/wp-content/uploads/2022/04/588px-x-348px-web-1.png\" alt=\"HTML5 Icon\" width=\"900\" height=\"350\" >\n"
      ],
      "metadata": {
        "id": "qCg1zV0_DK0j"
      }
    },
    {
      "cell_type": "markdown",
      "source": [
        "<h1 align=center><font size = 5>UNIDAD II - ESTRUCTURAS SELECTIVAS Y REPETITIVAS\n",
        "</font></h1>\n",
        "\n",
        "---"
      ],
      "metadata": {
        "id": "XJ-qSpecBnPA"
      }
    },
    {
      "cell_type": "markdown",
      "source": [
        "## Tabla de Contenidos\n",
        "\n",
        "<div class=\"alert alert-block alert-info\" style=\"margin-top: 20px\">\n",
        "\n",
        "<font size = 3>\n",
        "    \n",
        "1. <a href=\"#item31\">Introducción al entorno Python</a>  \n",
        "2. <a href=\"#item31\">Sentencias IF</a>  \n",
        "3. <a href=\"#item31\">Sentencias While</a>  \n",
        "4. <a href=\"#item31\">Sentencias For</a>  \n",
        "\n",
        "</font>\n",
        "</div>\n",
        "\n",
        "---"
      ],
      "metadata": {
        "id": "-METXVBCB-AX"
      }
    },
    {
      "cell_type": "markdown",
      "source": [
        "#1. Introducción al entorno Python"
      ],
      "metadata": {
        "id": "32lFkXesCLmU"
      }
    },
    {
      "cell_type": "markdown",
      "source": [
        "### Constantes"
      ],
      "metadata": {
        "id": "pncAPB7TPruo"
      }
    },
    {
      "cell_type": "markdown",
      "source": [
        "<b> Ejercicio </b>\n",
        "\n",
        "Usa una variable para representar un número. Luego, usando esa variable, cree un mensaje que revele su número. Imprime ese mensaje."
      ],
      "metadata": {
        "id": "CpJsuNbVRKZ3"
      }
    },
    {
      "cell_type": "code",
      "source": [
        "numero=50\n",
        "print(f\"el numero es: {numero}\")"
      ],
      "metadata": {
        "id": "lXHDT0kqmrd_",
        "outputId": "45696f52-0c86-4ecd-e98f-9869bf032934",
        "colab": {
          "base_uri": "https://localhost:8080/"
        }
      },
      "execution_count": 8,
      "outputs": [
        {
          "output_type": "stream",
          "name": "stdout",
          "text": [
            "el numero es: 50\n"
          ]
        }
      ]
    },
    {
      "cell_type": "markdown",
      "source": [
        "# 2. Sentencias IF"
      ],
      "metadata": {
        "id": "AR6JaCmmRB6V"
      }
    },
    {
      "cell_type": "markdown",
      "source": [
        "### Probando múltiples condiciones"
      ],
      "metadata": {
        "id": "_8dO4jjn-Ga_"
      }
    },
    {
      "cell_type": "markdown",
      "source": [
        "<b> Ejercicio 1</b>\n",
        "\n",
        "Imagina que un extraterrestre acaba de ser derribado en un juego. Cree una variable llamada alien_color y asígnele un valor de 'verde', 'amarillo' o 'rojo'.\n",
        "\n",
        "Escribe una declaración if para probar si el color del extraterrestre es verde. Si es así, imprime un mensaje de que el jugador acaba de ganar 5 puntos."
      ],
      "metadata": {
        "id": "Y-WZOmge-ddV"
      }
    },
    {
      "cell_type": "code",
      "source": [
        "alien_color=[\"verde\"]\n",
        "if input(\"ingrese el color:\\t\").lower() in alien_color:\n",
        "  print(\"usted acava de ganar 5 puntoz\")"
      ],
      "metadata": {
        "colab": {
          "base_uri": "https://localhost:8080/"
        },
        "id": "GTxnk9GLUzQe",
        "outputId": "6e77976c-48b1-4787-8638-c3cdb0f6e038"
      },
      "execution_count": 7,
      "outputs": [
        {
          "output_type": "stream",
          "name": "stdout",
          "text": [
            "ingrese el color:\tverde\n",
            "usted acava de ganar 5 puntoz\n"
          ]
        }
      ]
    },
    {
      "cell_type": "markdown",
      "source": [
        "<b> Ejercicio 2</b>\n",
        "\n",
        "Elija un color para un extraterrestre como lo hizo en el Ejercicio anterior y escriba una cadena if-else.\n",
        "\n",
        "Si el alienígena es verde, imprime un mensaje de que el jugador obtuvo 5 puntos.\n",
        "Si el alienígena es amarillo, imprime un mensaje de que el jugador obtuvo 10 puntos.\n",
        "Si el alienígena es rojo, imprime un mensaje de que el jugador obtuvo 15 puntos."
      ],
      "metadata": {
        "id": "fe2t6tUu-_sX"
      }
    },
    {
      "cell_type": "code",
      "source": [
        "alien_color=str(input(\"Ingrese el color del alien:\\t\"))\n",
        "if alien_color.lower() == 'verde':\n",
        "  print (\"Usted ha ganado 5 puntos\")\n",
        "elif alien_color.lower() == 'amarillo':\n",
        "  print (\"Usted ha ganado 10 puntos\")\n",
        "elif alien_color.lower() == 'rojo':\n",
        "  print (\"Usted ha ganado 15 puntos\")\n",
        "else:\n",
        "  print(\"siga intentando\")"
      ],
      "metadata": {
        "colab": {
          "base_uri": "https://localhost:8080/"
        },
        "id": "TLGwSce1Wtv4",
        "outputId": "8a5ee81e-1b09-41f8-a6fb-784ecb2ac436"
      },
      "execution_count": 6,
      "outputs": [
        {
          "output_type": "stream",
          "name": "stdout",
          "text": [
            "Ingrese el color del alien:\tverde\n",
            "Usted ha ganado 5 puntos\n"
          ]
        }
      ]
    },
    {
      "cell_type": "markdown",
      "source": [
        "# Sentencias While"
      ],
      "metadata": {
        "id": "tQ7O2WPW_uWn"
      }
    },
    {
      "cell_type": "markdown",
      "source": [
        "### Evitando Loops infinitos"
      ],
      "metadata": {
        "id": "YHli8JqnEsX6"
      }
    },
    {
      "cell_type": "markdown",
      "source": [
        "<b> Ejercicio 1</b>\n",
        "\n",
        "Escriba un ciclo que solicite al usuario que ingrese una serie de ingredientes para la pizza hasta que ingrese un valor de 'salir'. A medida que ingresen cada ingrediente, imprima un mensaje que diga que agregará ese ingrediente a su pizza."
      ],
      "metadata": {
        "id": "NzzH8uoCFAMM"
      }
    },
    {
      "cell_type": "code",
      "source": [
        "while True:\n",
        "       ingredientes = input(\"Ingrese los ingredientes para su pizza:\\t\")\n",
        "\n",
        "       if ingredientes == 'salir':\n",
        "           break\n",
        "       else:\n",
        "           print(f\"se ha agregado {ingredientes} a su pizza!\")"
      ],
      "metadata": {
        "colab": {
          "base_uri": "https://localhost:8080/"
        },
        "id": "BdIfAc9noUuv",
        "outputId": "3dd5412a-14ac-474b-d6d7-bc4e49c7ae43"
      },
      "execution_count": 5,
      "outputs": [
        {
          "name": "stdout",
          "output_type": "stream",
          "text": [
            "Ingrese los ingredientes para su pizza:\tqueso\n",
            "se ha agregado queso a su pizza!\n",
            "Ingrese los ingredientes para su pizza:\tsalchichas\n",
            "se ha agregado salchichas a su pizza!\n",
            "Ingrese los ingredientes para su pizza:\tsalir\n"
          ]
        }
      ]
    },
    {
      "cell_type": "markdown",
      "source": [
        "<b> Ejercicio 2</b>\n",
        "\n",
        "Un cine cobra diferentes precios de boletos dependiendo de la edad de una persona. Si una persona es menor de 3 años, la entrada es gratuita; si son entre 3 y 12, el boleto cuesta s/. 10; y si son mayores de 12 años, el boleto cuesta s/. 15. Escriba un ciclo en el que pregunte a los usuarios su edad y luego dígales el costo de su boleto de cine."
      ],
      "metadata": {
        "id": "ATFL1LTaFDoF"
      }
    },
    {
      "cell_type": "code",
      "source": [
        "  entrada=int(input(\"Ingrese su edad:\\t\"))\n",
        "  if entrada < 3:\n",
        "   price = 0\n",
        "  elif entrada <= 12:\n",
        "   price = 10\n",
        "  elif entrada > 12:\n",
        "   price = 15\n",
        "  print(f\"tu entrada cuesta S/. {price}.\")\n"
      ],
      "metadata": {
        "colab": {
          "base_uri": "https://localhost:8080/"
        },
        "id": "QANAa84YqzyY",
        "outputId": "5cc3cfab-15ac-4ed8-ed1e-3e85f6d3df4c"
      },
      "execution_count": 4,
      "outputs": [
        {
          "output_type": "stream",
          "name": "stdout",
          "text": [
            "Ingrese su edad:\t30\n",
            "tu entrada cuesta S/. 15.\n"
          ]
        }
      ]
    },
    {
      "cell_type": "markdown",
      "source": [
        "# 3. Sentencia For"
      ],
      "metadata": {
        "id": "wGafafRIF6Bz"
      }
    },
    {
      "cell_type": "markdown",
      "source": [
        "### Olvidando la identación"
      ],
      "metadata": {
        "id": "C1qC64EEHDM-"
      }
    },
    {
      "cell_type": "markdown",
      "source": [
        "<b> Ejercicio 1</b>\n",
        "\n",
        "\n",
        "Piensa en al menos tres tipos de tu pizza favorita. Almacene estos nombres de pizza en una lista y luego use un ciclo for para imprimir el nombre de cada pizza.\n",
        "\n",
        "Modifique su ciclo for para imprimir una oración usando el nombre de la pizza en lugar de imprimir solo el nombre de la pizza. Para cada pizza, debe tener una línea de salida que contenga una declaración simple como Me gusta la pizza de pepperoni.\n",
        "Agregue una línea al final de su programa, fuera del bucle for, que indique cuánto le gusta la pizza. El resultado debe constar de tres o más líneas sobre los tipos de pizza que te gustan y luego una oración adicional, como ¡Me encanta la pizza!\n"
      ],
      "metadata": {
        "id": "FHwT_HI5Hedh"
      }
    },
    {
      "cell_type": "code",
      "source": [
        "pizzas = [\"Americana\", \"Hawaiana\", \"Siciliana\"]\n",
        "print (\"\\t\\t   PIZZERÍA A LA LEÑA      \")\n",
        "for pizza in pizzas:\n",
        "  print(f\"{pizza.title()},:\")\n",
        "  if pizza.title() == 'Americana':\n",
        "    print(\"\\tMe gusta la pizza Americana.\")\n",
        "  elif pizza.title() == 'Hawaiana':\n",
        "    print(\"\\tMe gusta la piña. La pizza Hawaiana es perfecta.\")\n",
        "  else:\n",
        "    print(\"\\tLa pizza Siciliana es la mas deliciosa.\")\n",
        "print (\"\\n¡ME ENCANTA LA PIZZA!\")"
      ],
      "metadata": {
        "colab": {
          "base_uri": "https://localhost:8080/"
        },
        "id": "Qoaz25TS2imD",
        "outputId": "2d928e46-abde-432a-8a3b-48b6232bd95d"
      },
      "execution_count": 3,
      "outputs": [
        {
          "output_type": "stream",
          "name": "stdout",
          "text": [
            "\t\t   PIZZERÍA A LA LEÑA      \n",
            "Americana,:\n",
            "\tMe gusta la pizza Americana.\n",
            "Hawaiana,:\n",
            "\tMe gusta la piña. La pizza Hawaiana es perfecta.\n",
            "Siciliana,:\n",
            "\tLa pizza Siciliana es la mas deliciosa.\n",
            "\n",
            "¡ME ENCANTA LA PIZZA!\n"
          ]
        }
      ]
    },
    {
      "cell_type": "markdown",
      "source": [
        "<b> Ejercicio 2</b>\n",
        "\n",
        "Piensa en al menos tres animales diferentes que tengan una característica común. Guarde los nombres de estos animales en una lista y luego use un ciclo for para imprimir el nombre de cada animal.\n",
        "\n",
        "Modifique su programa para imprimir una declaración sobre cada animal, como Un perro sería una gran mascota.\n",
        "Agregue una línea al final de su programa indicando lo que estos animales tienen en común. Podría escribir una oración como ¡Cualquiera de estos animales sería una gran mascota!"
      ],
      "metadata": {
        "id": "CBNrK6wXHnEm"
      }
    },
    {
      "cell_type": "code",
      "source": [
        "animales = [\"Perro\", \"Gato\", \"Conejo\"]\n",
        "print (\"\\t\\t MASCOTAS \")\n",
        "for pet in animales:\n",
        "  print(f\"El {pet.title()}:\")\n",
        "  if pet.title() == 'Perro':\n",
        "    print(\"\\tEl mejor amigo del hombre.\")\n",
        "  elif pet.title() == 'Gato':\n",
        "    print(\"\\tSu ronroneo es tranquilizador.\")\n",
        "  else:\n",
        "    print(\"\\tAl final se lo comen.\")\n",
        "print (\"\\nTodos estos animales son domesticos y son utilizados como mascotas.\")"
      ],
      "metadata": {
        "colab": {
          "base_uri": "https://localhost:8080/"
        },
        "id": "CimBW_1Z2lOZ",
        "outputId": "a0935643-71e7-47c9-c9fb-3177a58ee1b9"
      },
      "execution_count": 2,
      "outputs": [
        {
          "output_type": "stream",
          "name": "stdout",
          "text": [
            "\t\t MASCOTAS \n",
            "El Perro:\n",
            "\tEl mejor amigo del hombre.\n",
            "El Gato:\n",
            "\tSu ronroneo es tranquilizador.\n",
            "El Conejo:\n",
            "\tAl final se lo comen.\n",
            "\n",
            "Todos estos animales son domesticos y son utilizados como mascotas.\n"
          ]
        }
      ]
    },
    {
      "cell_type": "markdown",
      "source": [
        "---\n",
        "\n",
        "# Gracias por completar este laboratorio!\n",
        "\n",
        "---\n"
      ],
      "metadata": {
        "id": "Z8TPfkHyH_D5"
      }
    }
  ]
}